{
 "cells": [
  {
   "cell_type": "markdown",
   "id": "e2f9a8e3",
   "metadata": {},
   "source": [
    "# Primera Parte -->  Off - line"
   ]
  },
  {
   "cell_type": "markdown",
   "id": "ac6f50b4",
   "metadata": {},
   "source": [
    "1. Extracción de Datos\n",
    "2. Inferir Fx Costo\n",
    "3. Generar datos nuevos\n",
    "4. Simunlar el modelo (varios tipos de lerners)\n",
    "5. Evaluar los lerners\n",
    "6. Obtener la comparación"
   ]
  },
  {
   "cell_type": "code",
   "execution_count": 1,
   "id": "7bb76af7",
   "metadata": {},
   "outputs": [],
   "source": [
    "import pandas as pd"
   ]
  },
  {
   "cell_type": "markdown",
   "id": "48d80f78",
   "metadata": {},
   "source": [
    "### 1. Extracción de Datos"
   ]
  },
  {
   "cell_type": "code",
   "execution_count": 2,
   "id": "0d4d94a5",
   "metadata": {},
   "outputs": [
    {
     "data": {
      "text/html": [
       "<div>\n",
       "<style scoped>\n",
       "    .dataframe tbody tr th:only-of-type {\n",
       "        vertical-align: middle;\n",
       "    }\n",
       "\n",
       "    .dataframe tbody tr th {\n",
       "        vertical-align: top;\n",
       "    }\n",
       "\n",
       "    .dataframe thead th {\n",
       "        text-align: right;\n",
       "    }\n",
       "</style>\n",
       "<table border=\"1\" class=\"dataframe\">\n",
       "  <thead>\n",
       "    <tr style=\"text-align: right;\">\n",
       "      <th></th>\n",
       "      <th>Unnamed: 0</th>\n",
       "      <th>user_id</th>\n",
       "      <th>af0</th>\n",
       "      <th>cycle</th>\n",
       "      <th>educ</th>\n",
       "      <th>gender</th>\n",
       "      <th>age</th>\n",
       "      <th>activity_id</th>\n",
       "      <th>af1</th>\n",
       "      <th>af2</th>\n",
       "      <th>dificulty</th>\n",
       "      <th>topic</th>\n",
       "      <th>prob</th>\n",
       "      <th>run_number</th>\n",
       "    </tr>\n",
       "  </thead>\n",
       "  <tbody>\n",
       "    <tr>\n",
       "      <th>0</th>\n",
       "      <td>0</td>\n",
       "      <td>1</td>\n",
       "      <td>51</td>\n",
       "      <td>1</td>\n",
       "      <td>4</td>\n",
       "      <td>1</td>\n",
       "      <td>51</td>\n",
       "      <td>201</td>\n",
       "      <td>51</td>\n",
       "      <td>84</td>\n",
       "      <td>1</td>\n",
       "      <td>2</td>\n",
       "      <td>0.33</td>\n",
       "      <td>1</td>\n",
       "    </tr>\n",
       "    <tr>\n",
       "      <th>1</th>\n",
       "      <td>1</td>\n",
       "      <td>1</td>\n",
       "      <td>51</td>\n",
       "      <td>2</td>\n",
       "      <td>4</td>\n",
       "      <td>1</td>\n",
       "      <td>51</td>\n",
       "      <td>86</td>\n",
       "      <td>50</td>\n",
       "      <td>53</td>\n",
       "      <td>2</td>\n",
       "      <td>3</td>\n",
       "      <td>0.33</td>\n",
       "      <td>1</td>\n",
       "    </tr>\n",
       "    <tr>\n",
       "      <th>2</th>\n",
       "      <td>2</td>\n",
       "      <td>1</td>\n",
       "      <td>51</td>\n",
       "      <td>3</td>\n",
       "      <td>4</td>\n",
       "      <td>1</td>\n",
       "      <td>51</td>\n",
       "      <td>136</td>\n",
       "      <td>57</td>\n",
       "      <td>60</td>\n",
       "      <td>3</td>\n",
       "      <td>3</td>\n",
       "      <td>0.33</td>\n",
       "      <td>1</td>\n",
       "    </tr>\n",
       "    <tr>\n",
       "      <th>3</th>\n",
       "      <td>3</td>\n",
       "      <td>1</td>\n",
       "      <td>51</td>\n",
       "      <td>4</td>\n",
       "      <td>4</td>\n",
       "      <td>1</td>\n",
       "      <td>51</td>\n",
       "      <td>159</td>\n",
       "      <td>55</td>\n",
       "      <td>64</td>\n",
       "      <td>1</td>\n",
       "      <td>1</td>\n",
       "      <td>0.33</td>\n",
       "      <td>1</td>\n",
       "    </tr>\n",
       "    <tr>\n",
       "      <th>4</th>\n",
       "      <td>4</td>\n",
       "      <td>1</td>\n",
       "      <td>51</td>\n",
       "      <td>5</td>\n",
       "      <td>4</td>\n",
       "      <td>1</td>\n",
       "      <td>51</td>\n",
       "      <td>173</td>\n",
       "      <td>52</td>\n",
       "      <td>59</td>\n",
       "      <td>3</td>\n",
       "      <td>2</td>\n",
       "      <td>0.33</td>\n",
       "      <td>1</td>\n",
       "    </tr>\n",
       "  </tbody>\n",
       "</table>\n",
       "</div>"
      ],
      "text/plain": [
       "   Unnamed: 0  user_id  af0  cycle  educ  gender  age  activity_id  af1  af2  \\\n",
       "0           0        1   51      1     4       1   51          201   51   84   \n",
       "1           1        1   51      2     4       1   51           86   50   53   \n",
       "2           2        1   51      3     4       1   51          136   57   60   \n",
       "3           3        1   51      4     4       1   51          159   55   64   \n",
       "4           4        1   51      5     4       1   51          173   52   59   \n",
       "\n",
       "   dificulty  topic  prob  run_number  \n",
       "0          1      2  0.33           1  \n",
       "1          2      3  0.33           1  \n",
       "2          3      3  0.33           1  \n",
       "3          1      1  0.33           1  \n",
       "4          3      2  0.33           1  "
      ]
     },
     "execution_count": 2,
     "metadata": {},
     "output_type": "execute_result"
    }
   ],
   "source": [
    "df_xgb=pd.read_csv('simdos.csv')\n",
    "df_xgb.head()"
   ]
  },
  {
   "cell_type": "code",
   "execution_count": 3,
   "id": "eda4a9a6",
   "metadata": {},
   "outputs": [],
   "source": [
    "df_xgb.drop(columns=df_xgb.columns[0], axis=1, inplace=True)\n",
    "df_xgb['cost'] =  df_xgb['af1'] - df_xgb['af2'] \n",
    "df_xgb.drop(columns=['af2','user_id','run_number','prob'], axis=1, inplace=True)\n"
   ]
  },
  {
   "cell_type": "code",
   "execution_count": 4,
   "id": "20dc185d",
   "metadata": {},
   "outputs": [
    {
     "data": {
      "text/plain": [
       "array([4, 2, 1, 5, 3], dtype=int64)"
      ]
     },
     "execution_count": 4,
     "metadata": {},
     "output_type": "execute_result"
    }
   ],
   "source": [
    "df_xgb['educ'].unique()"
   ]
  },
  {
   "cell_type": "code",
   "execution_count": 5,
   "id": "6cf95c97",
   "metadata": {},
   "outputs": [
    {
     "data": {
      "text/plain": [
       "<bound method DataFrame.reset_index of        af0  cycle  educ  gender  age  activity_id  af1  dificulty  topic  cost\n",
       "70000   48      1     5       0   45           42   52          2      3    -7\n",
       "70001   48      2     5       0   45           20   49          3      2    -2\n",
       "70002   48      3     5       0   45          144   49          4      3    -3\n",
       "70003   48      4     5       0   45          167   48          5      3    -4\n",
       "70004   48      5     5       0   45           37   46          5      3    -1\n",
       "...    ...    ...   ...     ...  ...          ...  ...        ...    ...   ...\n",
       "99995   50     16     4       0   38           57   52          5      2    -1\n",
       "99996   50     17     4       0   38           76   47          4      2    -9\n",
       "99997   50     18     4       0   38          240   54          5      3     4\n",
       "99998   50     19     4       0   38          156   45          3      2   -12\n",
       "99999   50     20     4       0   38          128   45          4      3    -9\n",
       "\n",
       "[30000 rows x 10 columns]>"
      ]
     },
     "execution_count": 5,
     "metadata": {},
     "output_type": "execute_result"
    }
   ],
   "source": [
    "train_df_xgb = df_xgb[df_xgb.index < 70000]\n",
    "test_df_xgb = df_xgb[df_xgb.index >= 70000]\n",
    "test_df_xgb.reset_index"
   ]
  },
  {
   "cell_type": "markdown",
   "id": "f41e6745",
   "metadata": {},
   "source": [
    "### 2. Inferir Fx Costo\n",
    "#### Modelo ML para determinar la Función de Costo"
   ]
  },
  {
   "cell_type": "code",
   "execution_count": 6,
   "id": "6bfda0d7",
   "metadata": {},
   "outputs": [],
   "source": [
    "import numpy as np\n",
    "from sklearn.model_selection import train_test_split\n",
    "from sklearn.metrics import roc_auc_score"
   ]
  },
  {
   "cell_type": "code",
   "execution_count": 7,
   "id": "874b8816",
   "metadata": {},
   "outputs": [],
   "source": [
    "from xgboost import XGBRegressor\n",
    "from sklearn.metrics import mean_squared_error\n",
    "\n",
    "def train_xgboost_regressor(train_data, train_labels, test_data, test_labels):\n",
    "    # Define the XGBoost regressor\n",
    "    reg = XGBRegressor(\n",
    "        objective='reg:squarederror',\n",
    "        eval_metric='rmse',\n",
    "        max_depth=4,\n",
    "        learning_rate=0.18793869,\n",
    "        gamma=0.03805912,\n",
    "        min_child_weight=4.9259686,\n",
    "        subsample=0.89705926,\n",
    "        colsample_bytree=0.9011847,\n",
    "        seed=42\n",
    "    )\n",
    "\n",
    "    # Train the XGBoost model\n",
    "    reg.fit(train_data, train_labels)\n",
    "\n",
    "    # Evaluate the model on the test data\n",
    "    predictions = reg.predict(test_data)\n",
    "    mse = mean_squared_error(test_labels, predictions)\n",
    "\n",
    "    # Return the trained model and the mean squared error\n",
    "    return reg, mse\n",
    "     "
   ]
  },
  {
   "cell_type": "code",
   "execution_count": 8,
   "id": "c0b47c5f",
   "metadata": {},
   "outputs": [
    {
     "name": "stdout",
     "output_type": "stream",
     "text": [
      "MSE: 52.585888564480264\n"
     ]
    }
   ],
   "source": [
    "\n",
    "\n",
    "from sklearn.datasets import make_regression\n",
    "from sklearn.model_selection import train_test_split\n",
    "\n",
    "X_train=train_df_xgb.drop(columns=['cost','activity_id'], axis=1, inplace=False)\n",
    "y_train=train_df_xgb['cost']\n",
    "\n",
    "X_test=test_df_xgb.drop(columns=['cost', 'activity_id'], axis=1, inplace=False)\n",
    "y_test=test_df_xgb['cost']\n",
    "\n",
    "\n",
    "# Train an XGBoost regressor on the data\n",
    "model, mse = train_xgboost_regressor(X_train, y_train, X_test, y_test)\n",
    "\n",
    "# Print the MSE\n",
    "print('MSE:', mse)\n",
    "     "
   ]
  },
  {
   "cell_type": "code",
   "execution_count": 9,
   "id": "def35089",
   "metadata": {},
   "outputs": [
    {
     "data": {
      "text/html": [
       "<div>\n",
       "<style scoped>\n",
       "    .dataframe tbody tr th:only-of-type {\n",
       "        vertical-align: middle;\n",
       "    }\n",
       "\n",
       "    .dataframe tbody tr th {\n",
       "        vertical-align: top;\n",
       "    }\n",
       "\n",
       "    .dataframe thead th {\n",
       "        text-align: right;\n",
       "    }\n",
       "</style>\n",
       "<table border=\"1\" class=\"dataframe\">\n",
       "  <thead>\n",
       "    <tr style=\"text-align: right;\">\n",
       "      <th></th>\n",
       "      <th>af0</th>\n",
       "      <th>cycle</th>\n",
       "      <th>educ</th>\n",
       "      <th>gender</th>\n",
       "      <th>age</th>\n",
       "      <th>af1</th>\n",
       "      <th>dificulty</th>\n",
       "      <th>topic</th>\n",
       "    </tr>\n",
       "  </thead>\n",
       "  <tbody>\n",
       "    <tr>\n",
       "      <th>0</th>\n",
       "      <td>51</td>\n",
       "      <td>1</td>\n",
       "      <td>4</td>\n",
       "      <td>1</td>\n",
       "      <td>51</td>\n",
       "      <td>51</td>\n",
       "      <td>1</td>\n",
       "      <td>2</td>\n",
       "    </tr>\n",
       "    <tr>\n",
       "      <th>1</th>\n",
       "      <td>51</td>\n",
       "      <td>2</td>\n",
       "      <td>4</td>\n",
       "      <td>1</td>\n",
       "      <td>51</td>\n",
       "      <td>50</td>\n",
       "      <td>2</td>\n",
       "      <td>3</td>\n",
       "    </tr>\n",
       "    <tr>\n",
       "      <th>2</th>\n",
       "      <td>51</td>\n",
       "      <td>3</td>\n",
       "      <td>4</td>\n",
       "      <td>1</td>\n",
       "      <td>51</td>\n",
       "      <td>57</td>\n",
       "      <td>3</td>\n",
       "      <td>3</td>\n",
       "    </tr>\n",
       "    <tr>\n",
       "      <th>3</th>\n",
       "      <td>51</td>\n",
       "      <td>4</td>\n",
       "      <td>4</td>\n",
       "      <td>1</td>\n",
       "      <td>51</td>\n",
       "      <td>55</td>\n",
       "      <td>1</td>\n",
       "      <td>1</td>\n",
       "    </tr>\n",
       "    <tr>\n",
       "      <th>4</th>\n",
       "      <td>51</td>\n",
       "      <td>5</td>\n",
       "      <td>4</td>\n",
       "      <td>1</td>\n",
       "      <td>51</td>\n",
       "      <td>52</td>\n",
       "      <td>3</td>\n",
       "      <td>2</td>\n",
       "    </tr>\n",
       "  </tbody>\n",
       "</table>\n",
       "</div>"
      ],
      "text/plain": [
       "   af0  cycle  educ  gender  age  af1  dificulty  topic\n",
       "0   51      1     4       1   51   51          1      2\n",
       "1   51      2     4       1   51   50          2      3\n",
       "2   51      3     4       1   51   57          3      3\n",
       "3   51      4     4       1   51   55          1      1\n",
       "4   51      5     4       1   51   52          3      2"
      ]
     },
     "execution_count": 9,
     "metadata": {},
     "output_type": "execute_result"
    }
   ],
   "source": [
    "X_train.head()"
   ]
  },
  {
   "cell_type": "code",
   "execution_count": 10,
   "id": "bf2e66aa",
   "metadata": {},
   "outputs": [],
   "source": [
    "def get_cost(af0, cycle, educ, gender, age, af1, dificulty, topic, model):\n",
    "    \n",
    "    usuario=pd.DataFrame({'af0':af0, 'cycle':cycle, 'educ':educ, 'gender':gender, 'age':age, 'af1':af1, 'dificulty':dificulty, 'topic':topic}, index=[1])\n",
    "   \n",
    "  \n",
    "    \n",
    "    costo=model.predict(usuario)\n",
    "    \n",
    "    return costo"
   ]
  },
  {
   "cell_type": "markdown",
   "id": "cf2191d2",
   "metadata": {},
   "source": [
    "### 3. Generar datos nuevos"
   ]
  },
  {
   "cell_type": "code",
   "execution_count": 29,
   "id": "7da3206f",
   "metadata": {},
   "outputs": [
    {
     "data": {
      "text/html": [
       "<div>\n",
       "<style scoped>\n",
       "    .dataframe tbody tr th:only-of-type {\n",
       "        vertical-align: middle;\n",
       "    }\n",
       "\n",
       "    .dataframe tbody tr th {\n",
       "        vertical-align: top;\n",
       "    }\n",
       "\n",
       "    .dataframe thead th {\n",
       "        text-align: right;\n",
       "    }\n",
       "</style>\n",
       "<table border=\"1\" class=\"dataframe\">\n",
       "  <thead>\n",
       "    <tr style=\"text-align: right;\">\n",
       "      <th></th>\n",
       "      <th>Unnamed: 0</th>\n",
       "      <th>user_id</th>\n",
       "      <th>af0</th>\n",
       "      <th>cycle</th>\n",
       "      <th>educ</th>\n",
       "      <th>gender</th>\n",
       "      <th>age</th>\n",
       "      <th>activity_id</th>\n",
       "      <th>af1</th>\n",
       "      <th>af2</th>\n",
       "      <th>dificulty</th>\n",
       "      <th>topic</th>\n",
       "      <th>prob</th>\n",
       "      <th>run_number</th>\n",
       "    </tr>\n",
       "  </thead>\n",
       "  <tbody>\n",
       "    <tr>\n",
       "      <th>0</th>\n",
       "      <td>0</td>\n",
       "      <td>1</td>\n",
       "      <td>51</td>\n",
       "      <td>1</td>\n",
       "      <td>4</td>\n",
       "      <td>1</td>\n",
       "      <td>51</td>\n",
       "      <td>201</td>\n",
       "      <td>51</td>\n",
       "      <td>84</td>\n",
       "      <td>1</td>\n",
       "      <td>2</td>\n",
       "      <td>0.33</td>\n",
       "      <td>1</td>\n",
       "    </tr>\n",
       "    <tr>\n",
       "      <th>1</th>\n",
       "      <td>1</td>\n",
       "      <td>1</td>\n",
       "      <td>51</td>\n",
       "      <td>2</td>\n",
       "      <td>4</td>\n",
       "      <td>1</td>\n",
       "      <td>51</td>\n",
       "      <td>86</td>\n",
       "      <td>50</td>\n",
       "      <td>53</td>\n",
       "      <td>2</td>\n",
       "      <td>3</td>\n",
       "      <td>0.33</td>\n",
       "      <td>1</td>\n",
       "    </tr>\n",
       "    <tr>\n",
       "      <th>2</th>\n",
       "      <td>2</td>\n",
       "      <td>1</td>\n",
       "      <td>51</td>\n",
       "      <td>3</td>\n",
       "      <td>4</td>\n",
       "      <td>1</td>\n",
       "      <td>51</td>\n",
       "      <td>136</td>\n",
       "      <td>57</td>\n",
       "      <td>60</td>\n",
       "      <td>3</td>\n",
       "      <td>3</td>\n",
       "      <td>0.33</td>\n",
       "      <td>1</td>\n",
       "    </tr>\n",
       "    <tr>\n",
       "      <th>3</th>\n",
       "      <td>3</td>\n",
       "      <td>1</td>\n",
       "      <td>51</td>\n",
       "      <td>4</td>\n",
       "      <td>4</td>\n",
       "      <td>1</td>\n",
       "      <td>51</td>\n",
       "      <td>159</td>\n",
       "      <td>55</td>\n",
       "      <td>64</td>\n",
       "      <td>1</td>\n",
       "      <td>1</td>\n",
       "      <td>0.33</td>\n",
       "      <td>1</td>\n",
       "    </tr>\n",
       "    <tr>\n",
       "      <th>4</th>\n",
       "      <td>4</td>\n",
       "      <td>1</td>\n",
       "      <td>51</td>\n",
       "      <td>5</td>\n",
       "      <td>4</td>\n",
       "      <td>1</td>\n",
       "      <td>51</td>\n",
       "      <td>173</td>\n",
       "      <td>52</td>\n",
       "      <td>59</td>\n",
       "      <td>3</td>\n",
       "      <td>2</td>\n",
       "      <td>0.33</td>\n",
       "      <td>1</td>\n",
       "    </tr>\n",
       "  </tbody>\n",
       "</table>\n",
       "</div>"
      ],
      "text/plain": [
       "   Unnamed: 0  user_id  af0  cycle  educ  gender  age  activity_id  af1  af2  \\\n",
       "0           0        1   51      1     4       1   51          201   51   84   \n",
       "1           1        1   51      2     4       1   51           86   50   53   \n",
       "2           2        1   51      3     4       1   51          136   57   60   \n",
       "3           3        1   51      4     4       1   51          159   55   64   \n",
       "4           4        1   51      5     4       1   51          173   52   59   \n",
       "\n",
       "   dificulty  topic  prob  run_number  \n",
       "0          1      2  0.33           1  \n",
       "1          2      3  0.33           1  \n",
       "2          3      3  0.33           1  \n",
       "3          1      1  0.33           1  \n",
       "4          3      2  0.33           1  "
      ]
     },
     "execution_count": 29,
     "metadata": {},
     "output_type": "execute_result"
    }
   ],
   "source": [
    "df_vw=pd.read_csv('simdos.csv')\n",
    "df_vw.head()"
   ]
  },
  {
   "cell_type": "code",
   "execution_count": 30,
   "id": "6b061430",
   "metadata": {},
   "outputs": [],
   "source": [
    "df_vw.drop(columns=df_vw.columns[0], axis=1, inplace=True)\n",
    "df_vw.drop(columns=['af2','run_number'], axis=1, inplace=True)"
   ]
  },
  {
   "cell_type": "code",
   "execution_count": 31,
   "id": "87e7c694",
   "metadata": {},
   "outputs": [
    {
     "data": {
      "text/html": [
       "<div>\n",
       "<style scoped>\n",
       "    .dataframe tbody tr th:only-of-type {\n",
       "        vertical-align: middle;\n",
       "    }\n",
       "\n",
       "    .dataframe tbody tr th {\n",
       "        vertical-align: top;\n",
       "    }\n",
       "\n",
       "    .dataframe thead th {\n",
       "        text-align: right;\n",
       "    }\n",
       "</style>\n",
       "<table border=\"1\" class=\"dataframe\">\n",
       "  <thead>\n",
       "    <tr style=\"text-align: right;\">\n",
       "      <th></th>\n",
       "      <th>user_id</th>\n",
       "      <th>af0</th>\n",
       "      <th>cycle</th>\n",
       "      <th>educ</th>\n",
       "      <th>gender</th>\n",
       "      <th>age</th>\n",
       "      <th>activity_id</th>\n",
       "      <th>af1</th>\n",
       "      <th>dificulty</th>\n",
       "      <th>topic</th>\n",
       "      <th>prob</th>\n",
       "    </tr>\n",
       "  </thead>\n",
       "  <tbody>\n",
       "    <tr>\n",
       "      <th>0</th>\n",
       "      <td>1</td>\n",
       "      <td>51</td>\n",
       "      <td>1</td>\n",
       "      <td>4</td>\n",
       "      <td>1</td>\n",
       "      <td>51</td>\n",
       "      <td>201</td>\n",
       "      <td>51</td>\n",
       "      <td>1</td>\n",
       "      <td>2</td>\n",
       "      <td>0.33</td>\n",
       "    </tr>\n",
       "    <tr>\n",
       "      <th>1</th>\n",
       "      <td>1</td>\n",
       "      <td>51</td>\n",
       "      <td>2</td>\n",
       "      <td>4</td>\n",
       "      <td>1</td>\n",
       "      <td>51</td>\n",
       "      <td>86</td>\n",
       "      <td>50</td>\n",
       "      <td>2</td>\n",
       "      <td>3</td>\n",
       "      <td>0.33</td>\n",
       "    </tr>\n",
       "    <tr>\n",
       "      <th>2</th>\n",
       "      <td>1</td>\n",
       "      <td>51</td>\n",
       "      <td>3</td>\n",
       "      <td>4</td>\n",
       "      <td>1</td>\n",
       "      <td>51</td>\n",
       "      <td>136</td>\n",
       "      <td>57</td>\n",
       "      <td>3</td>\n",
       "      <td>3</td>\n",
       "      <td>0.33</td>\n",
       "    </tr>\n",
       "    <tr>\n",
       "      <th>3</th>\n",
       "      <td>1</td>\n",
       "      <td>51</td>\n",
       "      <td>4</td>\n",
       "      <td>4</td>\n",
       "      <td>1</td>\n",
       "      <td>51</td>\n",
       "      <td>159</td>\n",
       "      <td>55</td>\n",
       "      <td>1</td>\n",
       "      <td>1</td>\n",
       "      <td>0.33</td>\n",
       "    </tr>\n",
       "    <tr>\n",
       "      <th>4</th>\n",
       "      <td>1</td>\n",
       "      <td>51</td>\n",
       "      <td>5</td>\n",
       "      <td>4</td>\n",
       "      <td>1</td>\n",
       "      <td>51</td>\n",
       "      <td>173</td>\n",
       "      <td>52</td>\n",
       "      <td>3</td>\n",
       "      <td>2</td>\n",
       "      <td>0.33</td>\n",
       "    </tr>\n",
       "  </tbody>\n",
       "</table>\n",
       "</div>"
      ],
      "text/plain": [
       "   user_id  af0  cycle  educ  gender  age  activity_id  af1  dificulty  topic  \\\n",
       "0        1   51      1     4       1   51          201   51          1      2   \n",
       "1        1   51      2     4       1   51           86   50          2      3   \n",
       "2        1   51      3     4       1   51          136   57          3      3   \n",
       "3        1   51      4     4       1   51          159   55          1      1   \n",
       "4        1   51      5     4       1   51          173   52          3      2   \n",
       "\n",
       "   prob  \n",
       "0  0.33  \n",
       "1  0.33  \n",
       "2  0.33  \n",
       "3  0.33  \n",
       "4  0.33  "
      ]
     },
     "execution_count": 31,
     "metadata": {},
     "output_type": "execute_result"
    }
   ],
   "source": [
    "df_vw.head()"
   ]
  },
  {
   "cell_type": "markdown",
   "id": "09ae4a72",
   "metadata": {},
   "source": [
    "### Esta función agrega una columna con el costo calculado para cada instancia"
   ]
  },
  {
   "cell_type": "code",
   "execution_count": 32,
   "id": "8852c7af",
   "metadata": {},
   "outputs": [],
   "source": [
    "def colum_cost(df):\n",
    "    \n",
    "    cost=[]\n",
    "    \n",
    "    \n",
    "    for i in range(len(df)):\n",
    "        \n",
    "        temp=df.iloc[i,[1,2,3,4,5,7,8,9]]\n",
    "        usuario=pd.DataFrame(temp)\n",
    "        usuario=usuario.transpose()\n",
    "        #print(usuario)\n",
    "        cost_cal= model.predict(usuario)\n",
    "        cost.append(float(cost_cal))\n",
    "        #print(cost)\n",
    "        \n",
    "        \n",
    "    return cost\n",
    "        "
   ]
  },
  {
   "cell_type": "code",
   "execution_count": 33,
   "id": "797847d1",
   "metadata": {},
   "outputs": [],
   "source": [
    "df_temp=colum_cost(df_vw)"
   ]
  },
  {
   "cell_type": "code",
   "execution_count": 34,
   "id": "dcf21373",
   "metadata": {},
   "outputs": [
    {
     "data": {
      "text/html": [
       "<div>\n",
       "<style scoped>\n",
       "    .dataframe tbody tr th:only-of-type {\n",
       "        vertical-align: middle;\n",
       "    }\n",
       "\n",
       "    .dataframe tbody tr th {\n",
       "        vertical-align: top;\n",
       "    }\n",
       "\n",
       "    .dataframe thead th {\n",
       "        text-align: right;\n",
       "    }\n",
       "</style>\n",
       "<table border=\"1\" class=\"dataframe\">\n",
       "  <thead>\n",
       "    <tr style=\"text-align: right;\">\n",
       "      <th></th>\n",
       "      <th>user_id</th>\n",
       "      <th>af0</th>\n",
       "      <th>cycle</th>\n",
       "      <th>educ</th>\n",
       "      <th>gender</th>\n",
       "      <th>age</th>\n",
       "      <th>activity_id</th>\n",
       "      <th>af1</th>\n",
       "      <th>dificulty</th>\n",
       "      <th>topic</th>\n",
       "      <th>prob</th>\n",
       "      <th>cost</th>\n",
       "    </tr>\n",
       "  </thead>\n",
       "  <tbody>\n",
       "    <tr>\n",
       "      <th>0</th>\n",
       "      <td>1</td>\n",
       "      <td>51</td>\n",
       "      <td>1</td>\n",
       "      <td>4</td>\n",
       "      <td>1</td>\n",
       "      <td>51</td>\n",
       "      <td>201</td>\n",
       "      <td>51</td>\n",
       "      <td>1</td>\n",
       "      <td>2</td>\n",
       "      <td>0.33</td>\n",
       "      <td>-14.708818</td>\n",
       "    </tr>\n",
       "    <tr>\n",
       "      <th>1</th>\n",
       "      <td>1</td>\n",
       "      <td>51</td>\n",
       "      <td>2</td>\n",
       "      <td>4</td>\n",
       "      <td>1</td>\n",
       "      <td>51</td>\n",
       "      <td>86</td>\n",
       "      <td>50</td>\n",
       "      <td>2</td>\n",
       "      <td>3</td>\n",
       "      <td>0.33</td>\n",
       "      <td>-10.857389</td>\n",
       "    </tr>\n",
       "    <tr>\n",
       "      <th>2</th>\n",
       "      <td>1</td>\n",
       "      <td>51</td>\n",
       "      <td>3</td>\n",
       "      <td>4</td>\n",
       "      <td>1</td>\n",
       "      <td>51</td>\n",
       "      <td>136</td>\n",
       "      <td>57</td>\n",
       "      <td>3</td>\n",
       "      <td>3</td>\n",
       "      <td>0.33</td>\n",
       "      <td>-6.711127</td>\n",
       "    </tr>\n",
       "    <tr>\n",
       "      <th>3</th>\n",
       "      <td>1</td>\n",
       "      <td>51</td>\n",
       "      <td>4</td>\n",
       "      <td>4</td>\n",
       "      <td>1</td>\n",
       "      <td>51</td>\n",
       "      <td>159</td>\n",
       "      <td>55</td>\n",
       "      <td>1</td>\n",
       "      <td>1</td>\n",
       "      <td>0.33</td>\n",
       "      <td>-14.141218</td>\n",
       "    </tr>\n",
       "    <tr>\n",
       "      <th>4</th>\n",
       "      <td>1</td>\n",
       "      <td>51</td>\n",
       "      <td>5</td>\n",
       "      <td>4</td>\n",
       "      <td>1</td>\n",
       "      <td>51</td>\n",
       "      <td>173</td>\n",
       "      <td>52</td>\n",
       "      <td>3</td>\n",
       "      <td>2</td>\n",
       "      <td>0.33</td>\n",
       "      <td>-6.990316</td>\n",
       "    </tr>\n",
       "  </tbody>\n",
       "</table>\n",
       "</div>"
      ],
      "text/plain": [
       "   user_id  af0  cycle  educ  gender  age  activity_id  af1  dificulty  topic  \\\n",
       "0        1   51      1     4       1   51          201   51          1      2   \n",
       "1        1   51      2     4       1   51           86   50          2      3   \n",
       "2        1   51      3     4       1   51          136   57          3      3   \n",
       "3        1   51      4     4       1   51          159   55          1      1   \n",
       "4        1   51      5     4       1   51          173   52          3      2   \n",
       "\n",
       "   prob       cost  \n",
       "0  0.33 -14.708818  \n",
       "1  0.33 -10.857389  \n",
       "2  0.33  -6.711127  \n",
       "3  0.33 -14.141218  \n",
       "4  0.33  -6.990316  "
      ]
     },
     "execution_count": 34,
     "metadata": {},
     "output_type": "execute_result"
    }
   ],
   "source": [
    "df_vw['cost']=df_temp\n",
    "df_vw.head()"
   ]
  },
  {
   "cell_type": "code",
   "execution_count": 35,
   "id": "3684f144",
   "metadata": {},
   "outputs": [
    {
     "data": {
      "text/plain": [
       "<bound method DataFrame.reset_index of        user_id  af0  cycle  educ  gender  age  activity_id  af1  dificulty  \\\n",
       "0            1   51      1     4       1   51          201   51          1   \n",
       "1            1   51      2     4       1   51           86   50          2   \n",
       "2            1   51      3     4       1   51          136   57          3   \n",
       "3            1   51      4     4       1   51          159   55          1   \n",
       "4            1   51      5     4       1   51          173   52          3   \n",
       "...        ...  ...    ...   ...     ...  ...          ...  ...        ...   \n",
       "29995     1500   42     16     2       0   36           26   44          5   \n",
       "29996     1500   42     17     2       0   36           68   44          3   \n",
       "29997     1500   42     18     2       0   36          144   40          1   \n",
       "29998     1500   42     19     2       0   36           77   39          5   \n",
       "29999     1500   42     20     2       0   36          111   41          5   \n",
       "\n",
       "       topic  prob       cost  \n",
       "0          2  0.33 -14.708818  \n",
       "1          3  0.33 -10.857389  \n",
       "2          3  0.33  -6.711127  \n",
       "3          1  0.33 -14.141218  \n",
       "4          2  0.33  -6.990316  \n",
       "...      ...   ...        ...  \n",
       "29995      2  0.33   0.068408  \n",
       "29996      1  0.33  -8.138886  \n",
       "29997      1  0.33 -16.695044  \n",
       "29998      1  0.33   0.277371  \n",
       "29999      3  0.33   0.120301  \n",
       "\n",
       "[30000 rows x 12 columns]>"
      ]
     },
     "execution_count": 35,
     "metadata": {},
     "output_type": "execute_result"
    }
   ],
   "source": [
    "train_df_vw = df_vw[df_vw.index >= 30001]\n",
    "train_df_vw.reset_index\n",
    "test_df_vw = df_vw[df_vw.index < 30000]\n",
    "test_df_vw.reset_index"
   ]
  },
  {
   "cell_type": "code",
   "execution_count": 36,
   "id": "84c93429",
   "metadata": {},
   "outputs": [],
   "source": [
    "def convertir_a_vw(df, columnas_etiqueta, label=True):\n",
    "    datos_vw = []\n",
    "    for i, fila in df.iterrows():\n",
    "        etiquetas = [str(fila[col]) for col in columnas_etiqueta]\n",
    "        contexto = ' '.join([f'{val}' for col, val in fila.items() if col not in columnas_etiqueta])\n",
    "        etiquetas_vw = ':'.join([f'{etiqueta}' for etiqueta in etiquetas])\n",
    "        if label:\n",
    "            datos_vw.append(f'{etiquetas_vw} | {contexto}')\n",
    "        else:\n",
    "            datos_vw.append(f'| {contexto}')\n",
    "\n",
    "    return datos_vw"
   ]
  },
  {
   "cell_type": "code",
   "execution_count": 37,
   "id": "f8d17cc3",
   "metadata": {},
   "outputs": [
    {
     "data": {
      "text/plain": [
       "['2.0:-5.078622341156006:0.33 | 1501.0 75.0 2.0 5.0 1.0 60.0 210.0 75.0 2.0',\n",
       " '2.0:-4.857138633728027:0.33 | 1501.0 75.0 3.0 5.0 1.0 60.0 101.0 77.0 3.0',\n",
       " '3.0:-3.6275198459625244:0.33 | 1501.0 75.0 4.0 5.0 1.0 60.0 31.0 77.0 3.0',\n",
       " '2.0:-5.028799533843994:0.33 | 1501.0 75.0 5.0 5.0 1.0 60.0 150.0 78.0 1.0',\n",
       " '2.0:-5.040956974029541:0.33 | 1501.0 75.0 6.0 5.0 1.0 60.0 179.0 77.0 1.0']"
      ]
     },
     "execution_count": 37,
     "metadata": {},
     "output_type": "execute_result"
    }
   ],
   "source": [
    "train_vw=convertir_a_vw(train_df_vw, [\"dificulty\", \"cost\",\"prob\"])\n",
    "train_vw[:5]"
   ]
  },
  {
   "cell_type": "code",
   "execution_count": 39,
   "id": "76297479",
   "metadata": {},
   "outputs": [
    {
     "data": {
      "text/plain": [
       "['| 1.0 51.0 1.0 4.0 1.0 51.0 201.0 51.0 2.0',\n",
       " '| 1.0 51.0 2.0 4.0 1.0 51.0 86.0 50.0 3.0',\n",
       " '| 1.0 51.0 3.0 4.0 1.0 51.0 136.0 57.0 3.0',\n",
       " '| 1.0 51.0 4.0 4.0 1.0 51.0 159.0 55.0 1.0',\n",
       " '| 1.0 51.0 5.0 4.0 1.0 51.0 173.0 52.0 2.0']"
      ]
     },
     "execution_count": 39,
     "metadata": {},
     "output_type": "execute_result"
    }
   ],
   "source": [
    "test_vw=convertir_a_vw(test_df_vw, [\"dificulty\", \"cost\",\"prob\"], False)\n",
    "test_vw[:5]"
   ]
  },
  {
   "cell_type": "code",
   "execution_count": 92,
   "id": "0044ae11",
   "metadata": {},
   "outputs": [],
   "source": [
    "prueba_vw=train_vw[:8000]"
   ]
  },
  {
   "cell_type": "code",
   "execution_count": 60,
   "id": "77fa1e44",
   "metadata": {},
   "outputs": [],
   "source": [
    "import random\n",
    "import matplotlib.pyplot as plt\n",
    "import vowpalwabbit\n",
    "from vowpalwabbit import Workspace"
   ]
  },
  {
   "cell_type": "code",
   "execution_count": 90,
   "id": "8abe6331",
   "metadata": {},
   "outputs": [],
   "source": [
    "def run_simulation(vw, num_iterations, do_learn):\n",
    "    cost_sum = 0.0\n",
    "    # das= costo acumulado promedio\n",
    "    reward_rate = []\n",
    "      \n",
    "    for i in range(1, num_iterations + 1):\n",
    "        for dato in prueba_vw:\n",
    "            a=(\"|\")\n",
    "            b=dato.find(a)\n",
    "            c=(b-6)\n",
    "            d=dato[4:c]\n",
    "            cost=float(d)\n",
    "            cost_sum=+ cost\n",
    "            if do_learn:\n",
    "                vw_format=vw.parse(dato,vowpalwabbit.LabelType.CONTEXTUAL_BANDIT)\n",
    "                vw.learn(vw_format)\n",
    "                \n",
    "                \n",
    "                \n",
    "                \n",
    "        reward_rate.append(1 - cost_sum / i)\n",
    "            \n",
    "    \n",
    "                  \n",
    "    return reward_rate    \n",
    "        "
   ]
  },
  {
   "cell_type": "code",
   "execution_count": 62,
   "id": "d5540acc",
   "metadata": {},
   "outputs": [],
   "source": [
    "def plot_das(num_iterations, reward_rate):\n",
    "    plt.plot(range(1, num_iterations + 1), reward_rate)\n",
    "    plt.xlabel(\"num_iterations\", fontsize=14)\n",
    "    plt.ylabel(\"reward rate\", fontsize=14)\n",
    " "
   ]
  },
  {
   "cell_type": "code",
   "execution_count": 93,
   "id": "d769295f",
   "metadata": {
    "scrolled": false
   },
   "outputs": [
    {
     "data": {
      "image/png": "[encoded data removed]",
      "text/plain": [
       "<Figure size 640x480 with 1 Axes>"
      ]
     },
     "metadata": {},
     "output_type": "display_data"
    }
   ],
   "source": [
    "vw = vowpalwabbit.Workspace(\"--cb_explore 5\", quiet=True)\n",
    "num_iterations=2000\n",
    "reward_rate = run_simulation(vw, num_iterations, do_learn=False)\n",
    "\n",
    "\n",
    "plot_das(num_iterations, reward_rate)"
   ]
  },
  {
   "cell_type": "code",
   "execution_count": 94,
   "id": "73859c7a",
   "metadata": {},
   "outputs": [
    {
     "ename": "MemoryError",
     "evalue": "",
     "output_type": "error",
     "traceback": [
      "\u001b[1;31m---------------------------------------------------------------------------\u001b[0m",
      "\u001b[1;31mMemoryError\u001b[0m                               Traceback (most recent call last)",
      "Cell \u001b[1;32mIn[94], line 3\u001b[0m\n\u001b[0;32m      1\u001b[0m vw \u001b[38;5;241m=\u001b[39m vowpalwabbit\u001b[38;5;241m.\u001b[39mWorkspace(\u001b[38;5;124m\"\u001b[39m\u001b[38;5;124m--cb_explore 5\u001b[39m\u001b[38;5;124m\"\u001b[39m, quiet\u001b[38;5;241m=\u001b[39m\u001b[38;5;28;01mTrue\u001b[39;00m)\n\u001b[0;32m      2\u001b[0m num_iterations\u001b[38;5;241m=\u001b[39m\u001b[38;5;241m500\u001b[39m\n\u001b[1;32m----> 3\u001b[0m reward_rate \u001b[38;5;241m=\u001b[39m \u001b[43mrun_simulation\u001b[49m\u001b[43m(\u001b[49m\u001b[43mvw\u001b[49m\u001b[43m,\u001b[49m\u001b[43m \u001b[49m\u001b[43mnum_iterations\u001b[49m\u001b[43m,\u001b[49m\u001b[43m \u001b[49m\u001b[43mdo_learn\u001b[49m\u001b[38;5;241;43m=\u001b[39;49m\u001b[38;5;28;43;01mTrue\u001b[39;49;00m\u001b[43m)\u001b[49m\n\u001b[0;32m      6\u001b[0m plot_das(num_iterations, reward_rate)\n",
      "Cell \u001b[1;32mIn[90], line 15\u001b[0m, in \u001b[0;36mrun_simulation\u001b[1;34m(vw, num_iterations, do_learn)\u001b[0m\n\u001b[0;32m     13\u001b[0m     cost_sum\u001b[38;5;241m=\u001b[39m\u001b[38;5;241m+\u001b[39m cost\n\u001b[0;32m     14\u001b[0m     \u001b[38;5;28;01mif\u001b[39;00m do_learn:\n\u001b[1;32m---> 15\u001b[0m         vw_format\u001b[38;5;241m=\u001b[39m\u001b[43mvw\u001b[49m\u001b[38;5;241;43m.\u001b[39;49m\u001b[43mparse\u001b[49m\u001b[43m(\u001b[49m\u001b[43mdato\u001b[49m\u001b[43m,\u001b[49m\u001b[43mvowpalwabbit\u001b[49m\u001b[38;5;241;43m.\u001b[39;49m\u001b[43mLabelType\u001b[49m\u001b[38;5;241;43m.\u001b[39;49m\u001b[43mCONTEXTUAL_BANDIT\u001b[49m\u001b[43m)\u001b[49m\n\u001b[0;32m     16\u001b[0m         vw\u001b[38;5;241m.\u001b[39mlearn(vw_format)\n\u001b[0;32m     21\u001b[0m reward_rate\u001b[38;5;241m.\u001b[39mappend(\u001b[38;5;241m1\u001b[39m \u001b[38;5;241m-\u001b[39m cost_sum \u001b[38;5;241m/\u001b[39m i)\n",
      "File \u001b[1;32m~\\AppData\\Local\\anaconda3\\lib\\site-packages\\vowpalwabbit\\pyvw.py:548\u001b[0m, in \u001b[0;36mWorkspace.parse\u001b[1;34m(self, str_ex, labelType)\u001b[0m\n\u001b[0;32m    546\u001b[0m str_ex \u001b[38;5;241m=\u001b[39m str_ex\u001b[38;5;241m.\u001b[39mreplace(\u001b[38;5;124m\"\u001b[39m\u001b[38;5;130;01m\\r\u001b[39;00m\u001b[38;5;124m\"\u001b[39m, \u001b[38;5;124m\"\u001b[39m\u001b[38;5;124m\"\u001b[39m)\n\u001b[0;32m    547\u001b[0m str_ex \u001b[38;5;241m=\u001b[39m str_ex\u001b[38;5;241m.\u001b[39mstrip()\n\u001b[1;32m--> 548\u001b[0m ec \u001b[38;5;241m=\u001b[39m \u001b[38;5;28;43mself\u001b[39;49m\u001b[38;5;241;43m.\u001b[39;49m\u001b[43m_parse\u001b[49m\u001b[43m(\u001b[49m\u001b[43mstr_ex\u001b[49m\u001b[43m)\u001b[49m\n\u001b[0;32m    549\u001b[0m ec \u001b[38;5;241m=\u001b[39m [Example(\u001b[38;5;28mself\u001b[39m, x, labelType) \u001b[38;5;28;01mfor\u001b[39;00m x \u001b[38;5;129;01min\u001b[39;00m ec]\n\u001b[0;32m    550\u001b[0m \u001b[38;5;28;01mfor\u001b[39;00m ex \u001b[38;5;129;01min\u001b[39;00m ec:\n",
      "\u001b[1;31mMemoryError\u001b[0m: "
     ]
    }
   ],
   "source": [
    "vw = vowpalwabbit.Workspace(\"--cb_explore 5\", quiet=True)\n",
    "num_iterations=500\n",
    "reward_rate = run_simulation(vw, num_iterations, do_learn=True)\n",
    "\n",
    "\n",
    "plot_das(num_iterations, reward_rate)"
   ]
  },
  {
   "cell_type": "code",
   "execution_count": 82,
   "id": "7f554701",
   "metadata": {},
   "outputs": [
    {
     "data": {
      "image/png": "[encoded data removed]",
      "text/plain": [
       "<Figure size 640x480 with 1 Axes>"
      ]
     },
     "metadata": {},
     "output_type": "display_data"
    }
   ],
   "source": [
    "vw = vowpalwabbit.Workspace(\"--cb_explore 5 --quiet --first 1\")\n",
    "num_iterations=500\n",
    "reward_rate = run_simulation(vw, num_iterations, do_learn=True)\n",
    "\n",
    "\n",
    "plot_das(num_iterations, reward_rate)"
   ]
  },
  {
   "cell_type": "code",
   "execution_count": 83,
   "id": "8178b982",
   "metadata": {},
   "outputs": [
    {
     "data": {
      "image/png": "[encoded data removed]",
      "text/plain": [
       "<Figure size 640x480 with 1 Axes>"
      ]
     },
     "metadata": {},
     "output_type": "display_data"
    }
   ],
   "source": [
    "vw = vowpalwabbit.Workspace(\"--cb_explore 5 --quiet --first 2\")\n",
    "num_iterations=500\n",
    "reward_rate = run_simulation(vw, num_iterations, do_learn=True)\n",
    "\n",
    "\n",
    "plot_das(num_iterations, reward_rate)"
   ]
  },
  {
   "cell_type": "code",
   "execution_count": 84,
   "id": "6c9f4898",
   "metadata": {},
   "outputs": [
    {
     "data": {
      "image/png": "[encoded data removed]",
      "text/plain": [
       "<Figure size 640x480 with 1 Axes>"
      ]
     },
     "metadata": {},
     "output_type": "display_data"
    }
   ],
   "source": [
    "vw = vowpalwabbit.Workspace(\"--cb_explore 5 --quiet --first 3\")\n",
    "num_iterations=500\n",
    "reward_rate = run_simulation(vw, num_iterations, do_learn=True)\n",
    "\n",
    "\n",
    "plot_das(num_iterations, reward_rate)"
   ]
  },
  {
   "cell_type": "code",
   "execution_count": 85,
   "id": "ef27d950",
   "metadata": {},
   "outputs": [
    {
     "ename": "KeyboardInterrupt",
     "evalue": "",
     "output_type": "error",
     "traceback": [
      "\u001b[1;31m---------------------------------------------------------------------------\u001b[0m",
      "\u001b[1;31mKeyboardInterrupt\u001b[0m                         Traceback (most recent call last)",
      "Cell \u001b[1;32mIn[85], line 3\u001b[0m\n\u001b[0;32m      1\u001b[0m vw \u001b[38;5;241m=\u001b[39m vowpalwabbit\u001b[38;5;241m.\u001b[39mWorkspace(\u001b[38;5;124m\"\u001b[39m\u001b[38;5;124m--cb_explore 5 --quiet --epsilon 0.1\u001b[39m\u001b[38;5;124m\"\u001b[39m)\n\u001b[0;32m      2\u001b[0m num_iterations\u001b[38;5;241m=\u001b[39m\u001b[38;5;241m2000\u001b[39m\n\u001b[1;32m----> 3\u001b[0m reward_rate \u001b[38;5;241m=\u001b[39m \u001b[43mrun_simulation\u001b[49m\u001b[43m(\u001b[49m\u001b[43mvw\u001b[49m\u001b[43m,\u001b[49m\u001b[43m \u001b[49m\u001b[43mnum_iterations\u001b[49m\u001b[43m,\u001b[49m\u001b[43m \u001b[49m\u001b[43mdo_learn\u001b[49m\u001b[38;5;241;43m=\u001b[39;49m\u001b[38;5;28;43;01mTrue\u001b[39;49;00m\u001b[43m)\u001b[49m\n\u001b[0;32m      6\u001b[0m plot_das(num_iterations, reward_rate)\n",
      "Cell \u001b[1;32mIn[72], line 15\u001b[0m, in \u001b[0;36mrun_simulation\u001b[1;34m(vw, num_iterations, do_learn)\u001b[0m\n\u001b[0;32m     13\u001b[0m cost_sum\u001b[38;5;241m=\u001b[39m\u001b[38;5;241m+\u001b[39m cost\n\u001b[0;32m     14\u001b[0m \u001b[38;5;28;01mif\u001b[39;00m do_learn:\n\u001b[1;32m---> 15\u001b[0m     vw_format\u001b[38;5;241m=\u001b[39m\u001b[43mvw\u001b[49m\u001b[38;5;241;43m.\u001b[39;49m\u001b[43mparse\u001b[49m\u001b[43m(\u001b[49m\u001b[43mdato\u001b[49m\u001b[43m,\u001b[49m\u001b[43mvowpalwabbit\u001b[49m\u001b[38;5;241;43m.\u001b[39;49m\u001b[43mLabelType\u001b[49m\u001b[38;5;241;43m.\u001b[39;49m\u001b[43mCONTEXTUAL_BANDIT\u001b[49m\u001b[43m)\u001b[49m\n\u001b[0;32m     16\u001b[0m     vw\u001b[38;5;241m.\u001b[39mlearn(vw_format)\n\u001b[0;32m     17\u001b[0m     vw\u001b[38;5;241m.\u001b[39mfinish_example(vw_format)\n",
      "File \u001b[1;32m~\\AppData\\Local\\anaconda3\\lib\\site-packages\\vowpalwabbit\\pyvw.py:549\u001b[0m, in \u001b[0;36mWorkspace.parse\u001b[1;34m(self, str_ex, labelType)\u001b[0m\n\u001b[0;32m    547\u001b[0m str_ex \u001b[38;5;241m=\u001b[39m str_ex\u001b[38;5;241m.\u001b[39mstrip()\n\u001b[0;32m    548\u001b[0m ec \u001b[38;5;241m=\u001b[39m \u001b[38;5;28mself\u001b[39m\u001b[38;5;241m.\u001b[39m_parse(str_ex)\n\u001b[1;32m--> 549\u001b[0m ec \u001b[38;5;241m=\u001b[39m [Example(\u001b[38;5;28mself\u001b[39m, x, labelType) \u001b[38;5;28;01mfor\u001b[39;00m x \u001b[38;5;129;01min\u001b[39;00m ec]\n\u001b[0;32m    550\u001b[0m \u001b[38;5;28;01mfor\u001b[39;00m ex \u001b[38;5;129;01min\u001b[39;00m ec:\n\u001b[0;32m    551\u001b[0m     ex\u001b[38;5;241m.\u001b[39msetup_done \u001b[38;5;241m=\u001b[39m \u001b[38;5;28;01mTrue\u001b[39;00m\n",
      "File \u001b[1;32m~\\AppData\\Local\\anaconda3\\lib\\site-packages\\vowpalwabbit\\pyvw.py:549\u001b[0m, in \u001b[0;36m<listcomp>\u001b[1;34m(.0)\u001b[0m\n\u001b[0;32m    547\u001b[0m str_ex \u001b[38;5;241m=\u001b[39m str_ex\u001b[38;5;241m.\u001b[39mstrip()\n\u001b[0;32m    548\u001b[0m ec \u001b[38;5;241m=\u001b[39m \u001b[38;5;28mself\u001b[39m\u001b[38;5;241m.\u001b[39m_parse(str_ex)\n\u001b[1;32m--> 549\u001b[0m ec \u001b[38;5;241m=\u001b[39m [Example(\u001b[38;5;28mself\u001b[39m, x, labelType) \u001b[38;5;28;01mfor\u001b[39;00m x \u001b[38;5;129;01min\u001b[39;00m ec]\n\u001b[0;32m    550\u001b[0m \u001b[38;5;28;01mfor\u001b[39;00m ex \u001b[38;5;129;01min\u001b[39;00m ec:\n\u001b[0;32m    551\u001b[0m     ex\u001b[38;5;241m.\u001b[39msetup_done \u001b[38;5;241m=\u001b[39m \u001b[38;5;28;01mTrue\u001b[39;00m\n",
      "\u001b[1;31mKeyboardInterrupt\u001b[0m: "
     ]
    }
   ],
   "source": [
    "vw = vowpalwabbit.Workspace(\"--cb_explore 5 --quiet --epsilon 0.1\")\n",
    "num_iterations=2000\n",
    "reward_rate = run_simulation(vw, num_iterations, do_learn=True)\n",
    "\n",
    "\n",
    "plot_das(num_iterations, reward_rate)"
   ]
  },
  {
   "cell_type": "code",
   "execution_count": null,
   "id": "11eea513",
   "metadata": {},
   "outputs": [],
   "source": [
    "vw = vowpalwabbit.Workspace(\"--cb_explore 5 --quiet --epsilon 0.2\")\n",
    "num_iterations=2000\n",
    "reward_rate = run_simulation(vw, num_iterations, do_learn=True)\n",
    "\n",
    "\n",
    "plot_das(num_iterations, reward_rate)"
   ]
  },
  {
   "cell_type": "code",
   "execution_count": null,
   "id": "0fd0109a",
   "metadata": {},
   "outputs": [],
   "source": [
    "vw = vowpalwabbit.Workspace(\"--cb_explore 5 --quiet --bag 3\")\n",
    "num_iterations=2000\n",
    "reward_rate = run_simulation(vw, num_iterations, do_learn=True)\n",
    "\n",
    "\n",
    "plot_das(num_iterations, reward_rate)"
   ]
  },
  {
   "cell_type": "code",
   "execution_count": null,
   "id": "078e5f7b",
   "metadata": {},
   "outputs": [],
   "source": [
    "vw = vowpalwabbit.Workspace(\"--cb_explore 5 --quiet --bag 5\")\n",
    "num_iterations=2000\n",
    "reward_rate = run_simulation(vw, num_iterations, do_learn=True)\n",
    "\n",
    "\n",
    "plot_das(num_iterations, reward_rate)"
   ]
  },
  {
   "cell_type": "code",
   "execution_count": null,
   "id": "ccbf0160",
   "metadata": {},
   "outputs": [],
   "source": [
    "vw = vowpalwabbit.Workspace(\"--cb_explore 5 --quiet --cover 2\")\n",
    "num_iterations=2000\n",
    "reward_rate = run_simulation(vw, num_iterations, do_learn=True)\n",
    "\n",
    "\n",
    "plot_das(num_iterations, reward_rate)"
   ]
  },
  {
   "cell_type": "code",
   "execution_count": null,
   "id": "c818c6b6",
   "metadata": {},
   "outputs": [],
   "source": []
  }
 ],
 "metadata": {
  "kernelspec": {
   "display_name": "Python 3 (ipykernel)",
   "language": "python",
   "name": "python3"
  },
  "language_info": {
   "codemirror_mode": {
    "name": "ipython",
    "version": 3
   },
   "file_extension": ".py",
   "mimetype": "text/x-python",
   "name": "python",
   "nbconvert_exporter": "python",
   "pygments_lexer": "ipython3",
   "version": "3.10.9"
  }
 },
 "nbformat": 4,
 "nbformat_minor": 5
}
