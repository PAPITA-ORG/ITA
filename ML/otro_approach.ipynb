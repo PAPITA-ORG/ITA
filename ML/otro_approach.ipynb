{
 "cells": [
  {
   "cell_type": "markdown",
   "id": "1dea8c3d",
   "metadata": {},
   "source": [
    "# Primera Parte -->  Off - line"
   ]
  },
  {
   "cell_type": "markdown",
   "id": "d78d674a",
   "metadata": {},
   "source": [
    "1. DataSet\n",
    "2. Inferir Fx Costo\n",
    "3. Simunlar el modelo (varios tipos de lerners)\n",
    "4. Evaluar los lerners\n",
    "5. Obtener el modelo"
   ]
  },
  {
   "cell_type": "code",
   "execution_count": 1,
   "id": "c59ac924",
   "metadata": {},
   "outputs": [],
   "source": [
    "import pandas as pd"
   ]
  },
  {
   "cell_type": "markdown",
   "id": "88384f4f",
   "metadata": {},
   "source": [
    "### Extracción de Datos"
   ]
  },
  {
   "cell_type": "code",
   "execution_count": 2,
   "id": "70bfbe56",
   "metadata": {},
   "outputs": [
    {
     "data": {
      "text/html": [
       "<div>\n",
       "<style scoped>\n",
       "    .dataframe tbody tr th:only-of-type {\n",
       "        vertical-align: middle;\n",
       "    }\n",
       "\n",
       "    .dataframe tbody tr th {\n",
       "        vertical-align: top;\n",
       "    }\n",
       "\n",
       "    .dataframe thead th {\n",
       "        text-align: right;\n",
       "    }\n",
       "</style>\n",
       "<table border=\"1\" class=\"dataframe\">\n",
       "  <thead>\n",
       "    <tr style=\"text-align: right;\">\n",
       "      <th></th>\n",
       "      <th>Unnamed: 0</th>\n",
       "      <th>user_id</th>\n",
       "      <th>af0</th>\n",
       "      <th>cycle</th>\n",
       "      <th>educ</th>\n",
       "      <th>gender</th>\n",
       "      <th>age</th>\n",
       "      <th>activity_id</th>\n",
       "      <th>af1</th>\n",
       "      <th>af2</th>\n",
       "      <th>dificulty</th>\n",
       "      <th>topic</th>\n",
       "      <th>prob</th>\n",
       "      <th>run_number</th>\n",
       "    </tr>\n",
       "  </thead>\n",
       "  <tbody>\n",
       "    <tr>\n",
       "      <th>0</th>\n",
       "      <td>0</td>\n",
       "      <td>1</td>\n",
       "      <td>51</td>\n",
       "      <td>1</td>\n",
       "      <td>4</td>\n",
       "      <td>1</td>\n",
       "      <td>51</td>\n",
       "      <td>201</td>\n",
       "      <td>51</td>\n",
       "      <td>84</td>\n",
       "      <td>1</td>\n",
       "      <td>2</td>\n",
       "      <td>0.33</td>\n",
       "      <td>1</td>\n",
       "    </tr>\n",
       "    <tr>\n",
       "      <th>1</th>\n",
       "      <td>1</td>\n",
       "      <td>1</td>\n",
       "      <td>51</td>\n",
       "      <td>2</td>\n",
       "      <td>4</td>\n",
       "      <td>1</td>\n",
       "      <td>51</td>\n",
       "      <td>86</td>\n",
       "      <td>50</td>\n",
       "      <td>53</td>\n",
       "      <td>2</td>\n",
       "      <td>3</td>\n",
       "      <td>0.33</td>\n",
       "      <td>1</td>\n",
       "    </tr>\n",
       "    <tr>\n",
       "      <th>2</th>\n",
       "      <td>2</td>\n",
       "      <td>1</td>\n",
       "      <td>51</td>\n",
       "      <td>3</td>\n",
       "      <td>4</td>\n",
       "      <td>1</td>\n",
       "      <td>51</td>\n",
       "      <td>136</td>\n",
       "      <td>57</td>\n",
       "      <td>60</td>\n",
       "      <td>3</td>\n",
       "      <td>3</td>\n",
       "      <td>0.33</td>\n",
       "      <td>1</td>\n",
       "    </tr>\n",
       "    <tr>\n",
       "      <th>3</th>\n",
       "      <td>3</td>\n",
       "      <td>1</td>\n",
       "      <td>51</td>\n",
       "      <td>4</td>\n",
       "      <td>4</td>\n",
       "      <td>1</td>\n",
       "      <td>51</td>\n",
       "      <td>159</td>\n",
       "      <td>55</td>\n",
       "      <td>64</td>\n",
       "      <td>1</td>\n",
       "      <td>1</td>\n",
       "      <td>0.33</td>\n",
       "      <td>1</td>\n",
       "    </tr>\n",
       "    <tr>\n",
       "      <th>4</th>\n",
       "      <td>4</td>\n",
       "      <td>1</td>\n",
       "      <td>51</td>\n",
       "      <td>5</td>\n",
       "      <td>4</td>\n",
       "      <td>1</td>\n",
       "      <td>51</td>\n",
       "      <td>173</td>\n",
       "      <td>52</td>\n",
       "      <td>59</td>\n",
       "      <td>3</td>\n",
       "      <td>2</td>\n",
       "      <td>0.33</td>\n",
       "      <td>1</td>\n",
       "    </tr>\n",
       "  </tbody>\n",
       "</table>\n",
       "</div>"
      ],
      "text/plain": [
       "   Unnamed: 0  user_id  af0  cycle  educ  gender  age  activity_id  af1  af2  \\\n",
       "0           0        1   51      1     4       1   51          201   51   84   \n",
       "1           1        1   51      2     4       1   51           86   50   53   \n",
       "2           2        1   51      3     4       1   51          136   57   60   \n",
       "3           3        1   51      4     4       1   51          159   55   64   \n",
       "4           4        1   51      5     4       1   51          173   52   59   \n",
       "\n",
       "   dificulty  topic  prob  run_number  \n",
       "0          1      2  0.33           1  \n",
       "1          2      3  0.33           1  \n",
       "2          3      3  0.33           1  \n",
       "3          1      1  0.33           1  \n",
       "4          3      2  0.33           1  "
      ]
     },
     "execution_count": 2,
     "metadata": {},
     "output_type": "execute_result"
    }
   ],
   "source": [
    "df=pd.read_csv('simdos.csv')\n",
    "df.head()"
   ]
  },
  {
   "cell_type": "code",
   "execution_count": 3,
   "id": "910d1bae",
   "metadata": {},
   "outputs": [],
   "source": [
    "df.drop(columns=df.columns[0], axis=1, inplace=True)\n",
    "df['cost'] =  df['af1'] - df['af2'] \n",
    "df.drop(columns=['af2','user_id','run_number','prob'], axis=1, inplace=True)\n"
   ]
  },
  {
   "cell_type": "code",
   "execution_count": 4,
   "id": "759a5bb5",
   "metadata": {},
   "outputs": [
    {
     "data": {
      "text/html": [
       "<div>\n",
       "<style scoped>\n",
       "    .dataframe tbody tr th:only-of-type {\n",
       "        vertical-align: middle;\n",
       "    }\n",
       "\n",
       "    .dataframe tbody tr th {\n",
       "        vertical-align: top;\n",
       "    }\n",
       "\n",
       "    .dataframe thead th {\n",
       "        text-align: right;\n",
       "    }\n",
       "</style>\n",
       "<table border=\"1\" class=\"dataframe\">\n",
       "  <thead>\n",
       "    <tr style=\"text-align: right;\">\n",
       "      <th></th>\n",
       "      <th>af0</th>\n",
       "      <th>cycle</th>\n",
       "      <th>educ</th>\n",
       "      <th>gender</th>\n",
       "      <th>age</th>\n",
       "      <th>activity_id</th>\n",
       "      <th>af1</th>\n",
       "      <th>dificulty</th>\n",
       "      <th>topic</th>\n",
       "      <th>cost</th>\n",
       "    </tr>\n",
       "  </thead>\n",
       "  <tbody>\n",
       "    <tr>\n",
       "      <th>0</th>\n",
       "      <td>51</td>\n",
       "      <td>1</td>\n",
       "      <td>4</td>\n",
       "      <td>1</td>\n",
       "      <td>51</td>\n",
       "      <td>201</td>\n",
       "      <td>51</td>\n",
       "      <td>1</td>\n",
       "      <td>2</td>\n",
       "      <td>-33</td>\n",
       "    </tr>\n",
       "    <tr>\n",
       "      <th>1</th>\n",
       "      <td>51</td>\n",
       "      <td>2</td>\n",
       "      <td>4</td>\n",
       "      <td>1</td>\n",
       "      <td>51</td>\n",
       "      <td>86</td>\n",
       "      <td>50</td>\n",
       "      <td>2</td>\n",
       "      <td>3</td>\n",
       "      <td>-3</td>\n",
       "    </tr>\n",
       "    <tr>\n",
       "      <th>2</th>\n",
       "      <td>51</td>\n",
       "      <td>3</td>\n",
       "      <td>4</td>\n",
       "      <td>1</td>\n",
       "      <td>51</td>\n",
       "      <td>136</td>\n",
       "      <td>57</td>\n",
       "      <td>3</td>\n",
       "      <td>3</td>\n",
       "      <td>-3</td>\n",
       "    </tr>\n",
       "    <tr>\n",
       "      <th>3</th>\n",
       "      <td>51</td>\n",
       "      <td>4</td>\n",
       "      <td>4</td>\n",
       "      <td>1</td>\n",
       "      <td>51</td>\n",
       "      <td>159</td>\n",
       "      <td>55</td>\n",
       "      <td>1</td>\n",
       "      <td>1</td>\n",
       "      <td>-9</td>\n",
       "    </tr>\n",
       "    <tr>\n",
       "      <th>4</th>\n",
       "      <td>51</td>\n",
       "      <td>5</td>\n",
       "      <td>4</td>\n",
       "      <td>1</td>\n",
       "      <td>51</td>\n",
       "      <td>173</td>\n",
       "      <td>52</td>\n",
       "      <td>3</td>\n",
       "      <td>2</td>\n",
       "      <td>-7</td>\n",
       "    </tr>\n",
       "  </tbody>\n",
       "</table>\n",
       "</div>"
      ],
      "text/plain": [
       "   af0  cycle  educ  gender  age  activity_id  af1  dificulty  topic  cost\n",
       "0   51      1     4       1   51          201   51          1      2   -33\n",
       "1   51      2     4       1   51           86   50          2      3    -3\n",
       "2   51      3     4       1   51          136   57          3      3    -3\n",
       "3   51      4     4       1   51          159   55          1      1    -9\n",
       "4   51      5     4       1   51          173   52          3      2    -7"
      ]
     },
     "execution_count": 4,
     "metadata": {},
     "output_type": "execute_result"
    }
   ],
   "source": [
    "df.head()"
   ]
  },
  {
   "cell_type": "code",
   "execution_count": 5,
   "id": "e1c5ee03",
   "metadata": {},
   "outputs": [
    {
     "data": {
      "text/plain": [
       "array([4, 2, 1, 5, 3], dtype=int64)"
      ]
     },
     "execution_count": 5,
     "metadata": {},
     "output_type": "execute_result"
    }
   ],
   "source": [
    "df['educ'].unique()"
   ]
  },
  {
   "cell_type": "code",
   "execution_count": 6,
   "id": "b58d70c2",
   "metadata": {},
   "outputs": [],
   "source": [
    "df.to_csv('sim2detec')"
   ]
  },
  {
   "cell_type": "code",
   "execution_count": 7,
   "id": "aed62c6a",
   "metadata": {},
   "outputs": [
    {
     "data": {
      "text/plain": [
       "<bound method DataFrame.reset_index of        af0  cycle  educ  gender  age  activity_id  af1  dificulty  topic  cost\n",
       "70000   48      1     5       0   45           42   52          2      3    -7\n",
       "70001   48      2     5       0   45           20   49          3      2    -2\n",
       "70002   48      3     5       0   45          144   49          4      3    -3\n",
       "70003   48      4     5       0   45          167   48          5      3    -4\n",
       "70004   48      5     5       0   45           37   46          5      3    -1\n",
       "...    ...    ...   ...     ...  ...          ...  ...        ...    ...   ...\n",
       "99995   50     16     4       0   38           57   52          5      2    -1\n",
       "99996   50     17     4       0   38           76   47          4      2    -9\n",
       "99997   50     18     4       0   38          240   54          5      3     4\n",
       "99998   50     19     4       0   38          156   45          3      2   -12\n",
       "99999   50     20     4       0   38          128   45          4      3    -9\n",
       "\n",
       "[30000 rows x 10 columns]>"
      ]
     },
     "execution_count": 7,
     "metadata": {},
     "output_type": "execute_result"
    }
   ],
   "source": [
    "train_df = df[df.index < 70000]\n",
    "test_df = df[df.index >= 70000]\n",
    "test_df.reset_index"
   ]
  },
  {
   "cell_type": "markdown",
   "id": "58606960",
   "metadata": {},
   "source": [
    "### Modelo para determinar la Función de Costo"
   ]
  },
  {
   "cell_type": "code",
   "execution_count": 8,
   "id": "e9617837",
   "metadata": {},
   "outputs": [],
   "source": [
    "import numpy as np\n",
    "from sklearn.model_selection import train_test_split\n",
    "from sklearn.metrics import roc_auc_score"
   ]
  },
  {
   "cell_type": "code",
   "execution_count": 9,
   "id": "2e2aa720",
   "metadata": {},
   "outputs": [],
   "source": [
    "from xgboost import XGBRegressor\n",
    "from sklearn.metrics import mean_squared_error\n",
    "\n",
    "def train_xgboost_regressor(train_data, train_labels, test_data, test_labels):\n",
    "    # Define the XGBoost regressor\n",
    "    reg = XGBRegressor(\n",
    "        objective='reg:squarederror',\n",
    "        eval_metric='rmse',\n",
    "        max_depth=4,\n",
    "        learning_rate=0.18793869,\n",
    "        gamma=0.03805912,\n",
    "        min_child_weight=4.9259686,\n",
    "        subsample=0.89705926,\n",
    "        colsample_bytree=0.9011847,\n",
    "        seed=42\n",
    "    )\n",
    "\n",
    "    # Train the XGBoost model\n",
    "    reg.fit(train_data, train_labels)\n",
    "\n",
    "    # Evaluate the model on the test data\n",
    "    predictions = reg.predict(test_data)\n",
    "    mse = mean_squared_error(test_labels, predictions)\n",
    "\n",
    "    # Return the trained model and the mean squared error\n",
    "    return reg, mse\n",
    "     "
   ]
  },
  {
   "cell_type": "code",
   "execution_count": 10,
   "id": "6ebd52e5",
   "metadata": {},
   "outputs": [
    {
     "name": "stdout",
     "output_type": "stream",
     "text": [
      "MSE: 52.585888564480264\n"
     ]
    }
   ],
   "source": [
    "\n",
    "\n",
    "from sklearn.datasets import make_regression\n",
    "from sklearn.model_selection import train_test_split\n",
    "\n",
    "X_train=train_df.drop(columns=['cost','activity_id'], axis=1, inplace=False)\n",
    "y_train=train_df['cost']\n",
    "\n",
    "X_test=test_df.drop(columns=['cost', 'activity_id'], axis=1, inplace=False)\n",
    "y_test=test_df['cost']\n",
    "\n",
    "\n",
    "# Train an XGBoost regressor on the data\n",
    "model, mse = train_xgboost_regressor(X_train, y_train, X_test, y_test)\n",
    "\n",
    "# Print the MSE\n",
    "print('MSE:', mse)\n",
    "     "
   ]
  },
  {
   "cell_type": "code",
   "execution_count": 11,
   "id": "92ab607e",
   "metadata": {},
   "outputs": [
    {
     "data": {
      "text/html": [
       "<div>\n",
       "<style scoped>\n",
       "    .dataframe tbody tr th:only-of-type {\n",
       "        vertical-align: middle;\n",
       "    }\n",
       "\n",
       "    .dataframe tbody tr th {\n",
       "        vertical-align: top;\n",
       "    }\n",
       "\n",
       "    .dataframe thead th {\n",
       "        text-align: right;\n",
       "    }\n",
       "</style>\n",
       "<table border=\"1\" class=\"dataframe\">\n",
       "  <thead>\n",
       "    <tr style=\"text-align: right;\">\n",
       "      <th></th>\n",
       "      <th>af0</th>\n",
       "      <th>cycle</th>\n",
       "      <th>educ</th>\n",
       "      <th>gender</th>\n",
       "      <th>age</th>\n",
       "      <th>af1</th>\n",
       "      <th>dificulty</th>\n",
       "      <th>topic</th>\n",
       "    </tr>\n",
       "  </thead>\n",
       "  <tbody>\n",
       "    <tr>\n",
       "      <th>0</th>\n",
       "      <td>51</td>\n",
       "      <td>1</td>\n",
       "      <td>4</td>\n",
       "      <td>1</td>\n",
       "      <td>51</td>\n",
       "      <td>51</td>\n",
       "      <td>1</td>\n",
       "      <td>2</td>\n",
       "    </tr>\n",
       "    <tr>\n",
       "      <th>1</th>\n",
       "      <td>51</td>\n",
       "      <td>2</td>\n",
       "      <td>4</td>\n",
       "      <td>1</td>\n",
       "      <td>51</td>\n",
       "      <td>50</td>\n",
       "      <td>2</td>\n",
       "      <td>3</td>\n",
       "    </tr>\n",
       "    <tr>\n",
       "      <th>2</th>\n",
       "      <td>51</td>\n",
       "      <td>3</td>\n",
       "      <td>4</td>\n",
       "      <td>1</td>\n",
       "      <td>51</td>\n",
       "      <td>57</td>\n",
       "      <td>3</td>\n",
       "      <td>3</td>\n",
       "    </tr>\n",
       "    <tr>\n",
       "      <th>3</th>\n",
       "      <td>51</td>\n",
       "      <td>4</td>\n",
       "      <td>4</td>\n",
       "      <td>1</td>\n",
       "      <td>51</td>\n",
       "      <td>55</td>\n",
       "      <td>1</td>\n",
       "      <td>1</td>\n",
       "    </tr>\n",
       "    <tr>\n",
       "      <th>4</th>\n",
       "      <td>51</td>\n",
       "      <td>5</td>\n",
       "      <td>4</td>\n",
       "      <td>1</td>\n",
       "      <td>51</td>\n",
       "      <td>52</td>\n",
       "      <td>3</td>\n",
       "      <td>2</td>\n",
       "    </tr>\n",
       "  </tbody>\n",
       "</table>\n",
       "</div>"
      ],
      "text/plain": [
       "   af0  cycle  educ  gender  age  af1  dificulty  topic\n",
       "0   51      1     4       1   51   51          1      2\n",
       "1   51      2     4       1   51   50          2      3\n",
       "2   51      3     4       1   51   57          3      3\n",
       "3   51      4     4       1   51   55          1      1\n",
       "4   51      5     4       1   51   52          3      2"
      ]
     },
     "execution_count": 11,
     "metadata": {},
     "output_type": "execute_result"
    }
   ],
   "source": [
    "X_train.head()"
   ]
  },
  {
   "cell_type": "code",
   "execution_count": 12,
   "id": "02622b2f",
   "metadata": {},
   "outputs": [],
   "source": [
    "def get_cost(af0, cycle, educ, gender, age, af1, dificulty, topic, model):\n",
    "    \n",
    "    usuario=pd.DataFrame({'af0':af0, 'cycle':cycle, 'educ':educ, 'gender':gender, 'age':age, 'af1':af1, 'dificulty':dificulty, 'topic':topic}, index=[1])\n",
    "   \n",
    "  \n",
    "    \n",
    "    costo=model.predict(usuario)\n",
    "    \n",
    "    return costo"
   ]
  },
  {
   "cell_type": "markdown",
   "id": "4a345774",
   "metadata": {},
   "source": [
    "### Generar Lerners"
   ]
  },
  {
   "cell_type": "code",
   "execution_count": 13,
   "id": "f15a0f9b",
   "metadata": {},
   "outputs": [],
   "source": [
    "df2=pd.read_csv('simdos.csv')\n",
    "df2.drop(columns=['Unnamed: 0','af2','run_number'], axis=1, inplace=True)"
   ]
  },
  {
   "cell_type": "code",
   "execution_count": 14,
   "id": "d661a3ea",
   "metadata": {},
   "outputs": [
    {
     "data": {
      "text/plain": [
       "<bound method DataFrame.reset_index of        user_id  af0  cycle  educ  gender  age  activity_id  af1  dificulty  \\\n",
       "0            1   51      1     4       1   51          201   51          1   \n",
       "1            1   51      2     4       1   51           86   50          2   \n",
       "2            1   51      3     4       1   51          136   57          3   \n",
       "3            1   51      4     4       1   51          159   55          1   \n",
       "4            1   51      5     4       1   51          173   52          3   \n",
       "...        ...  ...    ...   ...     ...  ...          ...  ...        ...   \n",
       "29995     1500   42     16     2       0   36           26   44          5   \n",
       "29996     1500   42     17     2       0   36           68   44          3   \n",
       "29997     1500   42     18     2       0   36          144   40          1   \n",
       "29998     1500   42     19     2       0   36           77   39          5   \n",
       "29999     1500   42     20     2       0   36          111   41          5   \n",
       "\n",
       "       topic  prob  \n",
       "0          2  0.33  \n",
       "1          3  0.33  \n",
       "2          3  0.33  \n",
       "3          1  0.33  \n",
       "4          2  0.33  \n",
       "...      ...   ...  \n",
       "29995      2  0.33  \n",
       "29996      1  0.33  \n",
       "29997      1  0.33  \n",
       "29998      1  0.33  \n",
       "29999      3  0.33  \n",
       "\n",
       "[30000 rows x 11 columns]>"
      ]
     },
     "execution_count": 14,
     "metadata": {},
     "output_type": "execute_result"
    }
   ],
   "source": [
    "train_df2 = df2[df2.index >= 30001]\n",
    "train_df2.reset_index\n",
    "test_df2 = df2[df.index < 30000]\n",
    "test_df2.reset_index"
   ]
  },
  {
   "cell_type": "code",
   "execution_count": 15,
   "id": "a0680c13",
   "metadata": {},
   "outputs": [],
   "source": [
    "import vowpalwabbit\n",
    "\n"
   ]
  },
  {
   "cell_type": "code",
   "execution_count": 16,
   "id": "9908bc2f",
   "metadata": {},
   "outputs": [],
   "source": [
    "import random\n",
    "import matplotlib.pyplot as plt"
   ]
  },
  {
   "cell_type": "code",
   "execution_count": 17,
   "id": "167c12be",
   "metadata": {},
   "outputs": [],
   "source": [
    "def run_simulation(vw, num_iterations, label):\n",
    "    cost_sum = 0.0\n",
    "    # das= Dificultad a Sugerir\n",
    "    das = []\n",
    "  \n",
    "    \n",
    "    \n",
    "    for i in range(1, num_iterations + 1):\n",
    "        datos_vw=[]\n",
    "        \n",
    "        \n",
    "        tema=[1,2,3]\n",
    "        sexo=[0,1]\n",
    "        age = str((random.uniform(20,61)))\n",
    "        gender=str(random.choice(sexo))\n",
    "        af0=str(int(random.uniform(0,101)))\n",
    "        af1=str(int(random.uniform(0,101)))\n",
    "        cycle=str(int(random.uniform(1,21)))\n",
    "        educ=str(int(random.uniform(1,6)))\n",
    "        topic=str(random.choice(tema))\n",
    "    \n",
    "        contextos=[age,gender,af0,af1,cycle,educ,topic]\n",
    "        contextos_vw=':'.join([f'{contexto}' for contexto in contextos])\n",
    "    \n",
    "        dificultad=[1,2,3,4,5]\n",
    "        dificulty = str(random.choice(dificultad))\n",
    "        cost = get_cost(int(af0), int(cycle), int(educ), int(gender), int(float(age)), int(af1), int(dificulty), int(topic), model)\n",
    "        cost_sum += float(cost)\n",
    "        prob = str(0.33)\n",
    "    \n",
    "        etiquetas = [dificulty, str(cost), prob]\n",
    "        etiquetas_vw = ':'.join([f'{etiqueta}' for etiqueta in etiquetas])\n",
    "        \n",
    "          \n",
    "        if label:\n",
    "            datos_vw.append(f'{etiquetas_vw} | {contextos_vw}')\n",
    "            vw_format=vw.parse(datos_vw,vowpalwabbit.LabelType.CONTEXTUAL_BANDIT)\n",
    "            vw.learn(vw_format)\n",
    "        else:\n",
    "            datos_vw.append(f'| {contextos_vw}')\n",
    "            #predict?\n",
    "        \n",
    "        \n",
    "        \n",
    "        #print(cost_sum)\n",
    "        das.append(-1 * cost_sum / i)\n",
    "        \n",
    "    return das    \n",
    "        "
   ]
  },
  {
   "cell_type": "code",
   "execution_count": 18,
   "id": "88a8c7ae",
   "metadata": {},
   "outputs": [],
   "source": [
    "def plot_das(num_iterations, das):\n",
    "    plt.plot(range(1, num_iterations + 1), das)\n",
    "    plt.xlabel(\"num_iterations\", fontsize=14)\n",
    "    plt.ylabel(\"das\", fontsize=14)\n",
    " "
   ]
  },
  {
   "cell_type": "code",
   "execution_count": 21,
   "id": "1febd4cf",
   "metadata": {
    "scrolled": false
   },
   "outputs": [
    {
     "data": {
      "image/png": "[encoded data removed]",
      "text/plain": [
       "<Figure size 640x480 with 1 Axes>"
      ]
     },
     "metadata": {},
     "output_type": "display_data"
    }
   ],
   "source": [
    "vw = vowpalwabbit.Workspace(\"--cb_explore 5\", quiet=True)\n",
    "num_iterations=2000\n",
    "das = run_simulation(vw, num_iterations, label=True)\n",
    "\n",
    "#print(das)\n",
    "plot_das(num_iterations, das)"
   ]
  },
  {
   "cell_type": "code",
   "execution_count": 22,
   "id": "111277a9",
   "metadata": {},
   "outputs": [
    {
     "data": {
      "image/png": "[encoded data removed]",
      "text/plain": [
       "<Figure size 640x480 with 1 Axes>"
      ]
     },
     "metadata": {},
     "output_type": "display_data"
    }
   ],
   "source": [
    "vw2 = vowpalwabbit.Workspace(\"--cb_explore_adf -q UA --quiet --epsilon 0.2\")\n",
    "num_iterations=2000\n",
    "das = run_simulation(vw2, num_iterations, label=True)\n",
    "\n",
    "#print(das)\n",
    "plot_das(num_iterations, das)"
   ]
  },
  {
   "cell_type": "code",
   "execution_count": 25,
   "id": "93cc7b5a",
   "metadata": {},
   "outputs": [
    {
     "data": {
      "image/png": "[encoded data removed]",
      "text/plain": [
       "<Figure size 640x480 with 1 Axes>"
      ]
     },
     "metadata": {},
     "output_type": "display_data"
    }
   ],
   "source": [
    "vw3 = vowpalwabbit.Workspace(\"--cb_explore_adf -q UA --quiet --first 2\")\n",
    "num_iterations=2000\n",
    "das = run_simulation(vw3, num_iterations, label=True)\n",
    "\n",
    "#print(das)\n",
    "plot_das(num_iterations, das)"
   ]
  },
  {
   "cell_type": "code",
   "execution_count": 31,
   "id": "414598ce",
   "metadata": {},
   "outputs": [
    {
     "data": {
      "image/png": "[encoded data removed]",
      "text/plain": [
       "<Figure size 640x480 with 1 Axes>"
      ]
     },
     "metadata": {},
     "output_type": "display_data"
    }
   ],
   "source": [
    "\n",
    "vw4 = vowpalwabbit.Workspace(\"--cb_explore_adf --softmax --lambda 10\")\n",
    "num_iterations=2000\n",
    "das = run_simulation(vw4, num_iterations, label=True)\n",
    "\n",
    "#print(das)\n",
    "plot_das(num_iterations, das)\n"
   ]
  },
  {
   "cell_type": "code",
   "execution_count": 32,
   "id": "d8283731",
   "metadata": {},
   "outputs": [
    {
     "data": {
      "image/png": "[encoded data removed]",
      "text/plain": [
       "<Figure size 640x480 with 1 Axes>"
      ]
     },
     "metadata": {},
     "output_type": "display_data"
    }
   ],
   "source": [
    "\n",
    "vw5 = vowpalwabbit.Workspace(\"--cb_explore_adf --rnd 3 --epsilon 0.025\")\n",
    "num_iterations=2000\n",
    "das = run_simulation(vw5, num_iterations, label=True)\n",
    "\n",
    "#print(das)\n",
    "plot_das(num_iterations, das)"
   ]
  },
  {
   "cell_type": "code",
   "execution_count": 30,
   "id": "7c05c50d",
   "metadata": {},
   "outputs": [
    {
     "name": "stdout",
     "output_type": "stream",
     "text": [
      "Collecting coba\n",
      "  Downloading coba-6.5.0-py3-none-any.whl (140 kB)\n",
      "     -------------------------------------- 140.3/140.3 kB 8.1 MB/s eta 0:00:00\n",
      "Requirement already satisfied: requests>=2 in c:\\users\\carolina.reyes\\appdata\\local\\anaconda3\\lib\\site-packages (from coba) (2.28.1)\n",
      "Requirement already satisfied: charset-normalizer<3,>=2 in c:\\users\\carolina.reyes\\appdata\\local\\anaconda3\\lib\\site-packages (from requests>=2->coba) (2.0.4)\n",
      "Requirement already satisfied: certifi>=2017.4.17 in c:\\users\\carolina.reyes\\appdata\\local\\anaconda3\\lib\\site-packages (from requests>=2->coba) (2022.12.7)\n",
      "Requirement already satisfied: urllib3<1.27,>=1.21.1 in c:\\users\\carolina.reyes\\appdata\\local\\anaconda3\\lib\\site-packages (from requests>=2->coba) (1.26.14)\n",
      "Requirement already satisfied: idna<4,>=2.5 in c:\\users\\carolina.reyes\\appdata\\local\\anaconda3\\lib\\site-packages (from requests>=2->coba) (3.4)\n",
      "Installing collected packages: coba\n",
      "Successfully installed coba-6.5.0\n"
     ]
    }
   ],
   "source": [
    "!pip install coba"
   ]
  },
  {
   "cell_type": "code",
   "execution_count": null,
   "id": "c9cc7703",
   "metadata": {},
   "outputs": [],
   "source": [
    "from coba.environments import Environments\n",
    "from coba.learners     import RandomLearner, LinUCBLearner\n",
    "from coba.experiments  import Experiment\n",
    "\n",
    "env = Environments.from_linear_synthetic(500,seed=5)\n",
    "lrn = [ RandomLearner(), LinUCBLearner() ]\n",
    "\n",
    "result = Experiment(env, lrn).evaluate()\n",
    "result.plot_learners()"
   ]
  }
 ],
 "metadata": {
  "kernelspec": {
   "display_name": "Python 3 (ipykernel)",
   "language": "python",
   "name": "python3"
  },
  "language_info": {
   "codemirror_mode": {
    "name": "ipython",
    "version": 3
   },
   "file_extension": ".py",
   "mimetype": "text/x-python",
   "name": "python",
   "nbconvert_exporter": "python",
   "pygments_lexer": "ipython3",
   "version": "3.10.9"
  }
 },
 "nbformat": 4,
 "nbformat_minor": 5
}
