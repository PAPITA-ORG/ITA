{
 "cells": [
  {
   "attachments": {},
   "cell_type": "markdown",
   "id": "1dea8c3d",
   "metadata": {},
   "source": [
    "### CB example (Carolina Reyes)"
   ]
  },
  {
   "attachments": {},
   "cell_type": "markdown",
   "id": "d78d674a",
   "metadata": {},
   "source": [
    "1. DataSet\n",
    "2. Inferir Fx Costo\n",
    "3. Simunlar el modelo (varios tipos de learners)\n",
    "4. Evaluar los learners\n",
    "5. Obtener el modelo"
   ]
  },
  {
   "cell_type": "code",
   "execution_count": 3,
   "id": "c59ac924",
   "metadata": {},
   "outputs": [],
   "source": [
    "import pandas as pd"
   ]
  },
  {
   "attachments": {},
   "cell_type": "markdown",
   "id": "88384f4f",
   "metadata": {},
   "source": [
    "### Extracción de Datos"
   ]
  },
  {
   "cell_type": "code",
   "execution_count": 4,
   "id": "70bfbe56",
   "metadata": {},
   "outputs": [
    {
     "data": {
      "text/html": [
       "<div>\n",
       "<style scoped>\n",
       "    .dataframe tbody tr th:only-of-type {\n",
       "        vertical-align: middle;\n",
       "    }\n",
       "\n",
       "    .dataframe tbody tr th {\n",
       "        vertical-align: top;\n",
       "    }\n",
       "\n",
       "    .dataframe thead th {\n",
       "        text-align: right;\n",
       "    }\n",
       "</style>\n",
       "<table border=\"1\" class=\"dataframe\">\n",
       "  <thead>\n",
       "    <tr style=\"text-align: right;\">\n",
       "      <th></th>\n",
       "      <th>Unnamed: 0</th>\n",
       "      <th>user_id</th>\n",
       "      <th>af0</th>\n",
       "      <th>cycle</th>\n",
       "      <th>educ</th>\n",
       "      <th>gender</th>\n",
       "      <th>age</th>\n",
       "      <th>activity_id</th>\n",
       "      <th>af1</th>\n",
       "      <th>af2</th>\n",
       "      <th>dificulty</th>\n",
       "      <th>topic</th>\n",
       "      <th>prob</th>\n",
       "      <th>run_number</th>\n",
       "    </tr>\n",
       "  </thead>\n",
       "  <tbody>\n",
       "    <tr>\n",
       "      <th>0</th>\n",
       "      <td>0</td>\n",
       "      <td>1</td>\n",
       "      <td>51</td>\n",
       "      <td>1</td>\n",
       "      <td>4</td>\n",
       "      <td>1</td>\n",
       "      <td>51</td>\n",
       "      <td>201</td>\n",
       "      <td>51</td>\n",
       "      <td>84</td>\n",
       "      <td>1</td>\n",
       "      <td>2</td>\n",
       "      <td>0.33</td>\n",
       "      <td>1</td>\n",
       "    </tr>\n",
       "    <tr>\n",
       "      <th>1</th>\n",
       "      <td>1</td>\n",
       "      <td>1</td>\n",
       "      <td>51</td>\n",
       "      <td>2</td>\n",
       "      <td>4</td>\n",
       "      <td>1</td>\n",
       "      <td>51</td>\n",
       "      <td>86</td>\n",
       "      <td>50</td>\n",
       "      <td>53</td>\n",
       "      <td>2</td>\n",
       "      <td>3</td>\n",
       "      <td>0.33</td>\n",
       "      <td>1</td>\n",
       "    </tr>\n",
       "    <tr>\n",
       "      <th>2</th>\n",
       "      <td>2</td>\n",
       "      <td>1</td>\n",
       "      <td>51</td>\n",
       "      <td>3</td>\n",
       "      <td>4</td>\n",
       "      <td>1</td>\n",
       "      <td>51</td>\n",
       "      <td>136</td>\n",
       "      <td>57</td>\n",
       "      <td>60</td>\n",
       "      <td>3</td>\n",
       "      <td>3</td>\n",
       "      <td>0.33</td>\n",
       "      <td>1</td>\n",
       "    </tr>\n",
       "    <tr>\n",
       "      <th>3</th>\n",
       "      <td>3</td>\n",
       "      <td>1</td>\n",
       "      <td>51</td>\n",
       "      <td>4</td>\n",
       "      <td>4</td>\n",
       "      <td>1</td>\n",
       "      <td>51</td>\n",
       "      <td>159</td>\n",
       "      <td>55</td>\n",
       "      <td>64</td>\n",
       "      <td>1</td>\n",
       "      <td>1</td>\n",
       "      <td>0.33</td>\n",
       "      <td>1</td>\n",
       "    </tr>\n",
       "    <tr>\n",
       "      <th>4</th>\n",
       "      <td>4</td>\n",
       "      <td>1</td>\n",
       "      <td>51</td>\n",
       "      <td>5</td>\n",
       "      <td>4</td>\n",
       "      <td>1</td>\n",
       "      <td>51</td>\n",
       "      <td>173</td>\n",
       "      <td>52</td>\n",
       "      <td>59</td>\n",
       "      <td>3</td>\n",
       "      <td>2</td>\n",
       "      <td>0.33</td>\n",
       "      <td>1</td>\n",
       "    </tr>\n",
       "  </tbody>\n",
       "</table>\n",
       "</div>"
      ],
      "text/plain": [
       "   Unnamed: 0  user_id  af0  cycle  educ  gender  age  activity_id  af1  af2  \\\n",
       "0           0        1   51      1     4       1   51          201   51   84   \n",
       "1           1        1   51      2     4       1   51           86   50   53   \n",
       "2           2        1   51      3     4       1   51          136   57   60   \n",
       "3           3        1   51      4     4       1   51          159   55   64   \n",
       "4           4        1   51      5     4       1   51          173   52   59   \n",
       "\n",
       "   dificulty  topic  prob  run_number  \n",
       "0          1      2  0.33           1  \n",
       "1          2      3  0.33           1  \n",
       "2          3      3  0.33           1  \n",
       "3          1      1  0.33           1  \n",
       "4          3      2  0.33           1  "
      ]
     },
     "execution_count": 4,
     "metadata": {},
     "output_type": "execute_result"
    }
   ],
   "source": [
    "df=pd.read_csv('sim1.csv')\n",
    "df.head()"
   ]
  },
  {
   "cell_type": "code",
   "execution_count": 5,
   "id": "910d1bae",
   "metadata": {},
   "outputs": [],
   "source": [
    "df.drop(columns=df.columns[0], axis=1, inplace=True)\n",
    "df['cost'] =  df['af1'] - df['af2'] "
   ]
  },
  {
   "cell_type": "code",
   "execution_count": 6,
   "id": "759a5bb5",
   "metadata": {},
   "outputs": [
    {
     "data": {
      "text/html": [
       "<div>\n",
       "<style scoped>\n",
       "    .dataframe tbody tr th:only-of-type {\n",
       "        vertical-align: middle;\n",
       "    }\n",
       "\n",
       "    .dataframe tbody tr th {\n",
       "        vertical-align: top;\n",
       "    }\n",
       "\n",
       "    .dataframe thead th {\n",
       "        text-align: right;\n",
       "    }\n",
       "</style>\n",
       "<table border=\"1\" class=\"dataframe\">\n",
       "  <thead>\n",
       "    <tr style=\"text-align: right;\">\n",
       "      <th></th>\n",
       "      <th>af0</th>\n",
       "      <th>educ</th>\n",
       "      <th>gender</th>\n",
       "      <th>age</th>\n",
       "      <th>activity_id</th>\n",
       "      <th>dificulty</th>\n",
       "      <th>cost</th>\n",
       "    </tr>\n",
       "  </thead>\n",
       "  <tbody>\n",
       "    <tr>\n",
       "      <th>0</th>\n",
       "      <td>51</td>\n",
       "      <td>4</td>\n",
       "      <td>1</td>\n",
       "      <td>51</td>\n",
       "      <td>201</td>\n",
       "      <td>1</td>\n",
       "      <td>-33</td>\n",
       "    </tr>\n",
       "    <tr>\n",
       "      <th>1</th>\n",
       "      <td>51</td>\n",
       "      <td>4</td>\n",
       "      <td>1</td>\n",
       "      <td>51</td>\n",
       "      <td>86</td>\n",
       "      <td>2</td>\n",
       "      <td>-3</td>\n",
       "    </tr>\n",
       "    <tr>\n",
       "      <th>2</th>\n",
       "      <td>51</td>\n",
       "      <td>4</td>\n",
       "      <td>1</td>\n",
       "      <td>51</td>\n",
       "      <td>136</td>\n",
       "      <td>3</td>\n",
       "      <td>-3</td>\n",
       "    </tr>\n",
       "    <tr>\n",
       "      <th>3</th>\n",
       "      <td>51</td>\n",
       "      <td>4</td>\n",
       "      <td>1</td>\n",
       "      <td>51</td>\n",
       "      <td>159</td>\n",
       "      <td>1</td>\n",
       "      <td>-9</td>\n",
       "    </tr>\n",
       "    <tr>\n",
       "      <th>4</th>\n",
       "      <td>51</td>\n",
       "      <td>4</td>\n",
       "      <td>1</td>\n",
       "      <td>51</td>\n",
       "      <td>173</td>\n",
       "      <td>3</td>\n",
       "      <td>-7</td>\n",
       "    </tr>\n",
       "  </tbody>\n",
       "</table>\n",
       "</div>"
      ],
      "text/plain": [
       "   af0  educ  gender  age  activity_id  dificulty  cost\n",
       "0   51     4       1   51          201          1   -33\n",
       "1   51     4       1   51           86          2    -3\n",
       "2   51     4       1   51          136          3    -3\n",
       "3   51     4       1   51          159          1    -9\n",
       "4   51     4       1   51          173          3    -7"
      ]
     },
     "execution_count": 6,
     "metadata": {},
     "output_type": "execute_result"
    }
   ],
   "source": [
    "df.drop(columns=['af2','user_id','af1','cycle','topic','run_number','prob'], axis=1, inplace=True)\n",
    "df.head()"
   ]
  },
  {
   "cell_type": "code",
   "execution_count": 7,
   "id": "e1c5ee03",
   "metadata": {},
   "outputs": [
    {
     "data": {
      "text/plain": [
       "array([4, 2, 1, 5, 3], dtype=int64)"
      ]
     },
     "execution_count": 7,
     "metadata": {},
     "output_type": "execute_result"
    }
   ],
   "source": [
    "df['educ'].unique()"
   ]
  },
  {
   "cell_type": "code",
   "execution_count": 8,
   "id": "b58d70c2",
   "metadata": {},
   "outputs": [],
   "source": [
    "df.to_csv('sim2detec')"
   ]
  },
  {
   "cell_type": "code",
   "execution_count": 9,
   "id": "aed62c6a",
   "metadata": {},
   "outputs": [
    {
     "data": {
      "text/plain": [
       "<bound method DataFrame.reset_index of        af0  educ  gender  age  activity_id  dificulty  cost\n",
       "70000   48     5       0   45           42          2    -7\n",
       "70001   48     5       0   45           20          3    -2\n",
       "70002   48     5       0   45          144          4    -3\n",
       "70003   48     5       0   45          167          5    -4\n",
       "70004   48     5       0   45           37          5    -1\n",
       "...    ...   ...     ...  ...          ...        ...   ...\n",
       "99995   50     4       0   38           57          5    -1\n",
       "99996   50     4       0   38           76          4    -9\n",
       "99997   50     4       0   38          240          5     4\n",
       "99998   50     4       0   38          156          3   -12\n",
       "99999   50     4       0   38          128          4    -9\n",
       "\n",
       "[30000 rows x 7 columns]>"
      ]
     },
     "execution_count": 9,
     "metadata": {},
     "output_type": "execute_result"
    }
   ],
   "source": [
    "train_df = df[df.index < 70000]\n",
    "test_df = df[df.index >= 70000]\n",
    "test_df.reset_index"
   ]
  },
  {
   "attachments": {},
   "cell_type": "markdown",
   "id": "58606960",
   "metadata": {},
   "source": [
    "### Modelo para determinar la Función de Costo"
   ]
  },
  {
   "cell_type": "code",
   "execution_count": 10,
   "id": "e9617837",
   "metadata": {},
   "outputs": [],
   "source": [
    "import numpy as np\n",
    "from sklearn.model_selection import train_test_split\n",
    "from sklearn.metrics import roc_auc_score"
   ]
  },
  {
   "cell_type": "code",
   "execution_count": 11,
   "id": "2e2aa720",
   "metadata": {},
   "outputs": [],
   "source": [
    "from xgboost import XGBRegressor\n",
    "from sklearn.metrics import mean_squared_error\n",
    "\n",
    "def train_xgboost_regressor(train_data, train_labels, test_data, test_labels):\n",
    "    # Define the XGBoost regressor\n",
    "    reg = XGBRegressor(\n",
    "        objective='reg:squarederror',\n",
    "        eval_metric='rmse',\n",
    "        max_depth=4,\n",
    "        learning_rate=0.18793869,\n",
    "        gamma=0.03805912,\n",
    "        min_child_weight=4.9259686,\n",
    "        subsample=0.89705926,\n",
    "        colsample_bytree=0.9011847,\n",
    "        seed=42\n",
    "    )\n",
    "\n",
    "    # Train the XGBoost model\n",
    "    reg.fit(train_data, train_labels)\n",
    "\n",
    "    # Evaluate the model on the test data\n",
    "    predictions = reg.predict(test_data)\n",
    "    mse = mean_squared_error(test_labels, predictions)\n",
    "\n",
    "    # Return the trained model and the mean squared error\n",
    "    return reg, mse\n",
    "     "
   ]
  },
  {
   "cell_type": "code",
   "execution_count": 12,
   "id": "6ebd52e5",
   "metadata": {},
   "outputs": [
    {
     "name": "stdout",
     "output_type": "stream",
     "text": [
      "MSE: 52.783974862790814\n"
     ]
    }
   ],
   "source": [
    "\n",
    "from sklearn.datasets import make_regression\n",
    "from sklearn.model_selection import train_test_split\n",
    "\n",
    "X_train=train_df.drop(columns=['cost','activity_id'], axis=1, inplace=False)\n",
    "y_train=train_df['cost']\n",
    "\n",
    "X_test=test_df.drop(columns=['cost', 'activity_id'], axis=1, inplace=False)\n",
    "y_test=test_df['cost']\n",
    "\n",
    "\n",
    "# Train an XGBoost regressor on the data\n",
    "model, mse = train_xgboost_regressor(X_train, y_train, X_test, y_test)\n",
    "\n",
    "# Print the MSE\n",
    "print('MSE:', mse)\n",
    "     "
   ]
  },
  {
   "cell_type": "code",
   "execution_count": 13,
   "id": "92ab607e",
   "metadata": {},
   "outputs": [
    {
     "data": {
      "text/html": [
       "<div>\n",
       "<style scoped>\n",
       "    .dataframe tbody tr th:only-of-type {\n",
       "        vertical-align: middle;\n",
       "    }\n",
       "\n",
       "    .dataframe tbody tr th {\n",
       "        vertical-align: top;\n",
       "    }\n",
       "\n",
       "    .dataframe thead th {\n",
       "        text-align: right;\n",
       "    }\n",
       "</style>\n",
       "<table border=\"1\" class=\"dataframe\">\n",
       "  <thead>\n",
       "    <tr style=\"text-align: right;\">\n",
       "      <th></th>\n",
       "      <th>af0</th>\n",
       "      <th>educ</th>\n",
       "      <th>gender</th>\n",
       "      <th>age</th>\n",
       "      <th>dificulty</th>\n",
       "    </tr>\n",
       "  </thead>\n",
       "  <tbody>\n",
       "    <tr>\n",
       "      <th>0</th>\n",
       "      <td>51</td>\n",
       "      <td>4</td>\n",
       "      <td>1</td>\n",
       "      <td>51</td>\n",
       "      <td>1</td>\n",
       "    </tr>\n",
       "    <tr>\n",
       "      <th>1</th>\n",
       "      <td>51</td>\n",
       "      <td>4</td>\n",
       "      <td>1</td>\n",
       "      <td>51</td>\n",
       "      <td>2</td>\n",
       "    </tr>\n",
       "    <tr>\n",
       "      <th>2</th>\n",
       "      <td>51</td>\n",
       "      <td>4</td>\n",
       "      <td>1</td>\n",
       "      <td>51</td>\n",
       "      <td>3</td>\n",
       "    </tr>\n",
       "    <tr>\n",
       "      <th>3</th>\n",
       "      <td>51</td>\n",
       "      <td>4</td>\n",
       "      <td>1</td>\n",
       "      <td>51</td>\n",
       "      <td>1</td>\n",
       "    </tr>\n",
       "    <tr>\n",
       "      <th>4</th>\n",
       "      <td>51</td>\n",
       "      <td>4</td>\n",
       "      <td>1</td>\n",
       "      <td>51</td>\n",
       "      <td>3</td>\n",
       "    </tr>\n",
       "  </tbody>\n",
       "</table>\n",
       "</div>"
      ],
      "text/plain": [
       "   af0  educ  gender  age  dificulty\n",
       "0   51     4       1   51          1\n",
       "1   51     4       1   51          2\n",
       "2   51     4       1   51          3\n",
       "3   51     4       1   51          1\n",
       "4   51     4       1   51          3"
      ]
     },
     "execution_count": 13,
     "metadata": {},
     "output_type": "execute_result"
    }
   ],
   "source": [
    "X_train.head()"
   ]
  },
  {
   "cell_type": "code",
   "execution_count": 14,
   "id": "02622b2f",
   "metadata": {},
   "outputs": [],
   "source": [
    "def get_cost(af0, educ, gender, age, dificulty, model):\n",
    "    \n",
    "    usuario=pd.DataFrame({'af0':af0, 'educ':educ, 'gender':gender, 'age':age, 'dificulty':dificulty}, index=[1])\n",
    "    costo=model.predict(usuario)\n",
    "    return costo"
   ]
  },
  {
   "attachments": {},
   "cell_type": "markdown",
   "id": "4a345774",
   "metadata": {},
   "source": [
    "### Generar Learners"
   ]
  },
  {
   "cell_type": "code",
   "execution_count": 15,
   "id": "9908bc2f",
   "metadata": {},
   "outputs": [],
   "source": [
    "import vowpalwabbit\n",
    "import random\n",
    "import matplotlib.pyplot as plt"
   ]
  },
  {
   "cell_type": "code",
   "execution_count": 16,
   "id": "f15a0f9b",
   "metadata": {},
   "outputs": [],
   "source": [
    "df2=pd.read_csv('sim1.csv')\n",
    "df2.drop(columns=['Unnamed: 0','af2','run_number'], axis=1, inplace=True)\n",
    "df3=df2.groupby(['user_id'], as_index=False).mean()\n",
    "df3.describe()\n",
    "dificultad=[1,2,3,4,5]"
   ]
  },
  {
   "cell_type": "code",
   "execution_count": 17,
   "metadata": {},
   "outputs": [],
   "source": [
    "def sample_custom_pmf(pmf):\n",
    "    total = sum(pmf)\n",
    "    scale = 1 / total\n",
    "    pmf = [x * scale for x in pmf]\n",
    "    draw = random.random()\n",
    "    sum_prob = 0.0\n",
    "    for index, prob in enumerate(pmf):\n",
    "        sum_prob += prob\n",
    "        if sum_prob > draw:\n",
    "            return index, prob"
   ]
  },
  {
   "cell_type": "code",
   "execution_count": 18,
   "id": "d77ac123",
   "metadata": {},
   "outputs": [],
   "source": [
    "# This function modifies (context, action, cost, probability) to VW friendly format\n",
    "def to_vw_example_format(context, actions, cb_label=None):\n",
    "    if cb_label is not None:\n",
    "        chosen_action, cost, prob = cb_label\n",
    "    example_string = \"\"\n",
    "    example_string += \"shared |User user:{} age:{} gender:{} af0:{} educ:{}\\n\".format(\n",
    "        context[\"user\"], context[\"age\"], context[\"gender\"], context[\"af0\"], context[\"educ\"] \n",
    "    )   \n",
    "    for action in actions:\n",
    "        if cb_label is not None and action == chosen_action:\n",
    "            example_string += \"0:{}:{} \".format(cost, prob)\n",
    "        example_string += \"|Action dificultad:{} \\n\".format(action)\n",
    "    # Strip the last newline\n",
    "    return example_string[:-1]"
   ]
  },
  {
   "cell_type": "code",
   "execution_count": 19,
   "id": "35c31205",
   "metadata": {},
   "outputs": [],
   "source": [
    "def get_action(vw, context, actions):\n",
    "    vw_text_example = to_vw_example_format(context, actions)\n",
    "    pmf = vw.predict(vw_text_example)\n",
    "    chosen_action_index, prob = sample_custom_pmf(pmf)\n",
    "    return actions[chosen_action_index], prob"
   ]
  },
  {
   "cell_type": "code",
   "execution_count": 23,
   "id": "167c12be",
   "metadata": {},
   "outputs": [],
   "source": [
    "def run_simulation(vw, num_iterations, actions, get_action, get_cost, label):\n",
    "    cost_sum = 0.0\n",
    "    # das= Dificultad a Sugerir\n",
    "    das = []\n",
    "    \n",
    "    for i in range(1, num_iterations + 1):\n",
    "        datos_vw=[]   \n",
    "        user = df3.iloc[1]['user_id']\n",
    "        gender=df3.iloc[1]['gender']\n",
    "        age=df3.iloc[1]['age']\n",
    "        af0=df3.iloc[1]['af0']\n",
    "        educ=df3.iloc[1]['educ']\n",
    "    \n",
    "        contextos = {\"user\": user, \"age\": age, \"gender\":gender, \"af0\":af0, \"educ\":educ}\n",
    "        dificulty, prob = get_action(vw, contextos, actions)\n",
    "        cost = get_cost(int(af0), int(educ), int(gender), int(float(age)), int(dificulty),  model)\n",
    "        cost_sum += float(cost)\n",
    "\n",
    "        if label:\n",
    "            vw_format=vw.parse(\n",
    "                to_vw_example_format(contextos, dificultad, (dificulty, cost, prob)),\n",
    "                vowpalwabbit.LabelType.CONTEXTUAL_BANDIT)\n",
    "            vw.learn(vw_format)\n",
    "            \n",
    "        else:\n",
    "            datos_vw.append(to_vw_example_format(contextos, dificultad))\n",
    "         \n",
    "        das.append(-1 * cost_sum / i)\n",
    "        \n",
    "    return das    \n",
    "        "
   ]
  },
  {
   "cell_type": "code",
   "execution_count": 21,
   "id": "88a8c7ae",
   "metadata": {},
   "outputs": [],
   "source": [
    "def plot_das(num_iterations, das):\n",
    "    plt.plot(range(1, num_iterations + 1), das)\n",
    "    plt.xlabel(\"num_iterations\", fontsize=14)\n",
    "    plt.ylabel(\"das\", fontsize=14)\n",
    " "
   ]
  },
  {
   "cell_type": "code",
   "execution_count": 24,
   "id": "1febd4cf",
   "metadata": {
    "scrolled": false
   },
   "outputs": [
    {
     "data": {
      "image/png": "[encoded data removed]",
      "text/plain": [
       "<Figure size 640x480 with 1 Axes>"
      ]
     },
     "metadata": {},
     "output_type": "display_data"
    }
   ],
   "source": [
    "vw = vowpalwabbit.Workspace(\"--cb_explore_adf -q UA --quiet --epsilon 0.2\")\n",
    "num_iterations=200\n",
    "das = run_simulation(vw, num_iterations, dificultad, get_action, get_cost, label=True)\n",
    "\n",
    "#print(das)\n",
    "plot_das(num_iterations, das)"
   ]
  },
  {
   "cell_type": "code",
   "execution_count": 25,
   "id": "111277a9",
   "metadata": {},
   "outputs": [
    {
     "data": {
      "image/png": "[encoded data removed]",
      "text/plain": [
       "<Figure size 640x480 with 1 Axes>"
      ]
     },
     "metadata": {},
     "output_type": "display_data"
    }
   ],
   "source": [
    "vw2 = vowpalwabbit.Workspace(\"--cb_explore_adf -q UA --quiet --epsilon 0.2\")\n",
    "num_iterations=200\n",
    "das = run_simulation(vw2, num_iterations, dificultad, get_action, get_cost, label=True)\n",
    "\n",
    "#print(das)\n",
    "plot_das(num_iterations, das)"
   ]
  },
  {
   "cell_type": "code",
   "execution_count": 33,
   "id": "93cc7b5a",
   "metadata": {},
   "outputs": [
    {
     "data": {
      "image/png": "[encoded data removed]",
      "text/plain": [
       "<Figure size 640x480 with 1 Axes>"
      ]
     },
     "metadata": {},
     "output_type": "display_data"
    }
   ],
   "source": [
    "vw3 = vowpalwabbit.Workspace(\"--cb_explore_adf\")\n",
    "num_iterations=200\n",
    "das = run_simulation(vw3, num_iterations, dificultad, get_action, get_cost, label=True)\n",
    "\n",
    "#print(das)\n",
    "plot_das(num_iterations, das)"
   ]
  }
 ],
 "metadata": {
  "kernelspec": {
   "display_name": "Python 3 (ipykernel)",
   "language": "python",
   "name": "python3"
  },
  "language_info": {
   "codemirror_mode": {
    "name": "ipython",
    "version": 3
   },
   "file_extension": ".py",
   "mimetype": "text/x-python",
   "name": "python",
   "nbconvert_exporter": "python",
   "pygments_lexer": "ipython3",
   "version": "3.9.16"
  }
 },
 "nbformat": 4,
 "nbformat_minor": 5
}
