{
 "cells": [
  {
   "cell_type": "markdown",
   "metadata": {},
   "source": [
    "## study protocol\n",
    "\n",
    "write intro here\n"
   ]
  },
  {
   "cell_type": "markdown",
   "metadata": {},
   "source": [
    "### Methods and data\n",
    "\n",
    "write methods here"
   ]
  },
  {
   "cell_type": "markdown",
   "metadata": {},
   "source": [
    "##### import libraries part 1\n",
    "\n",
    "server connection"
   ]
  },
  {
   "cell_type": "code",
   "execution_count": null,
   "metadata": {},
   "outputs": [],
   "source": [
    "import pymongo"
   ]
  },
  {
   "cell_type": "markdown",
   "metadata": {},
   "source": [
    "##### connect to the server\n",
    "\n",
    "First, create mongo client and then connect to local host and port."
   ]
  },
  {
   "cell_type": "code",
   "execution_count": 4,
   "metadata": {
    "scrolled": true
   },
   "outputs": [],
   "source": [
    "# mongo client\n",
    "\n",
    "from pymongo import MongoClient\n",
    "client = MongoClient('localhost', 3000)\n",
    "\n",
    "# fetching data\n",
    "\n",
    "data = client.test_database"
   ]
  },
  {
   "cell_type": "markdown",
   "metadata": {},
   "source": [
    "##### import libraries part 2\n",
    "\n",
    "pandas for data management, numpy and seaborn for analysis, matplotlib for visualization. Other libraries as needed for specific tasks (e.g. PAM)."
   ]
  },
  {
   "cell_type": "code",
   "execution_count": 3,
   "metadata": {},
   "outputs": [],
   "source": [
    "import numpy as np\n",
    "import seaborn as sns\n",
    "import pandas as pd\n",
    "import matplotlib.pyplot as plt\n",
    "from tableone import TableOne, load_dataset\n",
    "import datetime\n",
    "import json\n",
    "\n",
    "%matplotlib inline"
   ]
  },
  {
   "cell_type": "markdown",
   "metadata": {},
   "source": [
    "##### read data\n",
    "\n",
    "read data files here (csv ideally but also dta if needed) using pandas (follow the notation on the example)."
   ]
  },
  {
   "cell_type": "code",
   "execution_count": 6,
   "metadata": {
    "scrolled": true
   },
   "outputs": [],
   "source": [
    "# baseline data\n",
    "\n",
    "datacned = pd.read_csv('../data/cned.csv')\n"
   ]
  },
  {
   "cell_type": "markdown",
   "metadata": {},
   "source": [
    "##### data manipulation"
   ]
  },
  {
   "cell_type": "code",
   "execution_count": 6,
   "metadata": {
    "scrolled": true
   },
   "outputs": [
    {
     "data": {
      "text/html": [
       "<div>\n",
       "<style scoped>\n",
       "    .dataframe tbody tr th:only-of-type {\n",
       "        vertical-align: middle;\n",
       "    }\n",
       "\n",
       "    .dataframe tbody tr th {\n",
       "        vertical-align: top;\n",
       "    }\n",
       "\n",
       "    .dataframe thead th {\n",
       "        text-align: right;\n",
       "    }\n",
       "</style>\n",
       "<table border=\"1\" class=\"dataframe\">\n",
       "  <thead>\n",
       "    <tr style=\"text-align: right;\">\n",
       "      <th></th>\n",
       "      <th>region</th>\n",
       "      <th>idc</th>\n",
       "      <th>score</th>\n",
       "      <th>puntajenem</th>\n",
       "      <th>ingreso2</th>\n",
       "      <th>vacantes</th>\n",
       "      <th>ingreso</th>\n",
       "      <th>year</th>\n",
       "      <th>dp</th>\n",
       "      <th>area</th>\n",
       "    </tr>\n",
       "  </thead>\n",
       "  <tbody>\n",
       "    <tr>\n",
       "      <th>0</th>\n",
       "      <td>7</td>\n",
       "      <td>7444</td>\n",
       "      <td>683.0</td>\n",
       "      <td>685.0</td>\n",
       "      <td>133.0</td>\n",
       "      <td>161.0</td>\n",
       "      <td>692</td>\n",
       "      <td>2019</td>\n",
       "      <td>0</td>\n",
       "      <td>Business</td>\n",
       "    </tr>\n",
       "    <tr>\n",
       "      <th>1</th>\n",
       "      <td>7</td>\n",
       "      <td>7420</td>\n",
       "      <td>719.0</td>\n",
       "      <td>716.0</td>\n",
       "      <td>384.0</td>\n",
       "      <td>528.0</td>\n",
       "      <td>2464</td>\n",
       "      <td>2019</td>\n",
       "      <td>0</td>\n",
       "      <td>Business</td>\n",
       "    </tr>\n",
       "    <tr>\n",
       "      <th>3</th>\n",
       "      <td>7</td>\n",
       "      <td>27287</td>\n",
       "      <td>675.0</td>\n",
       "      <td>673.0</td>\n",
       "      <td>161.0</td>\n",
       "      <td>160.0</td>\n",
       "      <td>689</td>\n",
       "      <td>2019</td>\n",
       "      <td>0</td>\n",
       "      <td>Business</td>\n",
       "    </tr>\n",
       "    <tr>\n",
       "      <th>4</th>\n",
       "      <td>7</td>\n",
       "      <td>7404</td>\n",
       "      <td>713.0</td>\n",
       "      <td>645.0</td>\n",
       "      <td>26.0</td>\n",
       "      <td>38.0</td>\n",
       "      <td>138</td>\n",
       "      <td>2019</td>\n",
       "      <td>0</td>\n",
       "      <td>Art/Humanities</td>\n",
       "    </tr>\n",
       "    <tr>\n",
       "      <th>5</th>\n",
       "      <td>7</td>\n",
       "      <td>7405</td>\n",
       "      <td>643.0</td>\n",
       "      <td>637.0</td>\n",
       "      <td>28.0</td>\n",
       "      <td>39.0</td>\n",
       "      <td>104</td>\n",
       "      <td>2019</td>\n",
       "      <td>0</td>\n",
       "      <td>Art/Humanities</td>\n",
       "    </tr>\n",
       "  </tbody>\n",
       "</table>\n",
       "</div>"
      ],
      "text/plain": [
       "   region    idc  score  puntajenem  ingreso2  vacantes  ingreso  year  dp  \\\n",
       "0       7   7444  683.0       685.0     133.0     161.0      692  2019   0   \n",
       "1       7   7420  719.0       716.0     384.0     528.0     2464  2019   0   \n",
       "3       7  27287  675.0       673.0     161.0     160.0      689  2019   0   \n",
       "4       7   7404  713.0       645.0      26.0      38.0      138  2019   0   \n",
       "5       7   7405  643.0       637.0      28.0      39.0      104  2019   0   \n",
       "\n",
       "             area  \n",
       "0        Business  \n",
       "1        Business  \n",
       "3        Business  \n",
       "4  Art/Humanities  \n",
       "5  Art/Humanities  "
      ]
     },
     "execution_count": 6,
     "metadata": {},
     "output_type": "execute_result"
    }
   ],
   "source": [
    "\n",
    "\n",
    "datacned.dropna(inplace=True)\n",
    "\n",
    "datacned.rename(columns={\"puntaje\": \"score\"}, inplace=True)\n",
    "datacned.head()"
   ]
  },
  {
   "cell_type": "markdown",
   "metadata": {},
   "source": [
    "##### basic stats"
   ]
  },
  {
   "cell_type": "code",
   "execution_count": 7,
   "metadata": {},
   "outputs": [
    {
     "data": {
      "text/plain": [
       "588.6719249862107"
      ]
     },
     "execution_count": 7,
     "metadata": {},
     "output_type": "execute_result"
    }
   ],
   "source": [
    "np.nanmean(datacned.score)"
   ]
  },
  {
   "cell_type": "markdown",
   "metadata": {},
   "source": [
    "##### example graph"
   ]
  },
  {
   "cell_type": "code",
   "execution_count": 8,
   "metadata": {
    "scrolled": false
   },
   "outputs": [
    {
     "data": {
      "image/png": "[encoded data removed]",
      "text/plain": [
       "<Figure size 399.25x288 with 1 Axes>"
      ]
     },
     "metadata": {
      "needs_background": "light"
     },
     "output_type": "display_data"
    }
   ],
   "source": [
    "# change plot size\n",
    "scatter1 = sns.pairplot(x_vars=\"score\", y_vars=\"region\", data=datacned, hue=\"area\", height=4)\n"
   ]
  },
  {
   "cell_type": "markdown",
   "metadata": {},
   "source": [
    "##### example table one"
   ]
  },
  {
   "cell_type": "code",
   "execution_count": null,
   "metadata": {},
   "outputs": [],
   "source": [
    "#loading data into tableone\n",
    "data=load_dataset('baseline1')\n",
    "\n",
    "#which variables are we using?\n",
    "columns = ['age','bili','albumin','ast','platelet','protime',\n",
    "       'ascites','hepato','spiders','edema','sex', 'trt']\n",
    "\n",
    "#declare categorical\n",
    "categorical = ['ascites','hepato','edema','sex','spiders','trt']\n",
    "\n",
    "#options\n",
    "groupby = 'trt'\n",
    "nonnormal = ['bili']\n",
    "\n",
    "#runs tableone and stores in mytable\n",
    "mytable = TableOne(data, columns=columns, categorical=categorical,\n",
    "                   groupby=groupby, nonnormal=nonnormal, pval=True)\n",
    "\n",
    "#show stuff in screen\n",
    "print(mytable.tabulate(tablefmt=\"github\"))\n",
    "\n",
    "#exports to excel file\n",
    "mytable.to_excel('mytable.xlsx')"
   ]
  }
 ],
 "metadata": {
  "kernelspec": {
   "display_name": "Python 3",
   "language": "python",
   "name": "python3"
  },
  "language_info": {
   "codemirror_mode": {
    "name": "ipython",
    "version": 3
   },
   "file_extension": ".py",
   "mimetype": "text/x-python",
   "name": "python",
   "nbconvert_exporter": "python",
   "pygments_lexer": "ipython3",
   "version": "3.7.3"
  }
 },
 "nbformat": 4,
 "nbformat_minor": 2
}
