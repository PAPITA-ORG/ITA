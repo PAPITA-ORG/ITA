{
 "cells": [
  {
   "cell_type": "code",
   "execution_count": 8,
   "metadata": {},
   "outputs": [],
   "source": [
    "# Housekeeping\n",
    "\n",
    "# To get ZOTERO follow these steps:\n",
    "# install cite2c using powershell (pip install cite2c or python -m pip install cite2c)\n",
    "# then run python -m cite2c.install\n",
    "# restart Jupyter notebook\n",
    "\n",
    "#To get equations numbered\n",
    "#install conda install -c conda-forge jupyter_contrib_nbextensions \n",
    "#then run jupyter contrib nbextension install --user\n",
    "#and run jupyter nbextension enable equation-numbering/main\n",
    "\n",
    "#import libraries\n",
    "\n",
    "import os # to create an interface with our operating system\n",
    "import sys # information on how our code is interacting with the host system\n",
    "#import pymongo as pm\n",
    "import pprint\n",
    "import requests\n",
    "import datetime\n",
    "import json\n",
    "import random\n",
    "import numpy as np\n",
    "import seaborn as sns\n",
    "import pandas as pd\n",
    "import matplotlib.pyplot as plt\n",
    "import scipy.stats as stats\n",
    "import math\n",
    "import statsmodels.stats.power as power\n",
    "from tableone import TableOne, load_dataset\n",
    "\n",
    "%matplotlib inline"
   ]
  },
  {
   "cell_type": "code",
   "execution_count": 4,
   "metadata": {},
   "outputs": [
    {
     "data": {
      "application/javascript": [
       "MathJax.Hub.Config({\n",
       "    TeX: { equationNumbers: { autoNumber: \"AMS\" } }\n",
       "});\n"
      ],
      "text/plain": [
       "<IPython.core.display.Javascript object>"
      ]
     },
     "metadata": {},
     "output_type": "display_data"
    }
   ],
   "source": [
    "%%javascript\n",
    "MathJax.Hub.Config({\n",
    "    TeX: { equationNumbers: { autoNumber: \"AMS\" } }\n",
    "});"
   ]
  },
  {
   "cell_type": "markdown",
   "metadata": {},
   "source": [
    "# Boosting parental self-efficacy with an IA-based intuitive training assistant: ITA study protocol \n",
    "\n",
    "Juliana Rodriguez, Soraya Llona, Felipe Peña, Cecilia Prieto, Magdalena Bennett, J. Carlos Caro, Natalia Rebolledo, Marcela Parada, Javiera Lobos, Gisella DiCosmo\n",
    "\n",
    "###### this version: July 2020"
   ]
  },
  {
   "cell_type": "markdown",
   "metadata": {},
   "source": [
    "## Abstract"
   ]
  },
  {
   "cell_type": "markdown",
   "metadata": {},
   "source": [
    "## Background\n",
    "\n",
    "It is expected that the COVID-19 pandemic and its associated lockdown measures will generate an increase inmental health problems, domestic violence, and child abuse, with a broad, substantive, and long-lasting impacts on psychosocial, physical and nutritional health <cite data-cite=\"undefined\"></cite> <cite data-cite=\"7126731/PNIZUEGW\"></cite><cite data-cite=\"7126731/4MX2ZYJ4\"></cite><cite data-cite=\"7126731/SM6SXUX5\"></cite>. Effects might be particularly important for children who have been retracted from regular school activities and confined to their homes <cite data-cite=\"7126731/UXGT9P9B\"></cite><cite data-cite=\"7126731/L3LQ5W4F\"></cite>. These negative effects might decrease if health promotion interventions are implemented <cite data-cite=\"7126731/U6GUPKN9\"></cite>. In this context, interventions that are destined to both children and caregivers (primary or secondary, family or nonfamily) are useful mechanisms to prevent emotional and physical problems and to promote healthy stimuli in children <cite data-cite=\"undefined\"></cite><cite data-cite=\"7126731/B5BNQPMA\"></cite><cite data-cite=\"7126731/QRP825IZ\"></cite> and caregivers <cite data-cite=\"7126731/6QMMESPW\"></cite><cite data-cite=\"7126731/3XGRKHER\"></cite>. Importantly, these interventions need to be implemented considering social distancing rules and lockdowns plans. Therefore, remote mhealth tools used by caregivers and children in their homes are practical systems to implement such interventions <cite data-cite=\"7126731/BER22NHF\"></cite>.\n",
    "\n",
    "Based on the above, in this study, we seek to develop, implement and evaluate the impact of the mhealth tool ITA (Intuitive Training Assistant), a web-based tool that combines artificial intelligence and insights from community-based health promotion programs, to support primary and secondary caregivers.  ITA promotes parenting self-efficacy and provides personalized information towards increasing the adoption of healthy behaviors in children between 3-10 years old. ITA focuses on three behaviors: physical activity, healthy eating, and mental health promotion\n",
    "\n",
    "[RE-WRITE] \n",
    "\n",
    "**Hypothesis:** \n",
    "\n",
    "The main and specific objetives of the studies goes are follow:\n",
    "\n",
    "**Main objetive:** To evaluate the impact of a digital tool to promote healthy habits (www.itayuda.cl) in the context of social distancing and confinement on parental self-efficacy level of caregivers of children ranging between 3 and 10 years.\n",
    "\n",
    "**Specific objetives:**\n",
    "\n",
    "1. To implement ITA to a pilot sample of families in Chile generated from disseminating the application using various media strategies.      \n",
    "2. To evaluate the direct and indirect impact of ITA on the child's nutritional health and socioemotional development in children with ages ranging between 3 and 10 years using the pilot sample.   \n",
    "3. To evaluate the effects of ITA on parental time investment using the pilot sample.      \n",
    "4. To identify sample clusters that allow us to explore the heterogeneity of impacts on users using Machine Learning (Random Forest).   \n",
    "5. To identify and implement process improvements to ITA considering the information from the users' evaluation.\n",
    "\n",
    "In the rest of this document, we presents details about the methods and design of the intervention.  \n",
    "\n",
    "**Primary outcomes:** Caregivers' self-efficacy parental and time allocation.\n",
    "\n",
    "**Secondary outcomes:** Children's mental and physical health."
   ]
  },
  {
   "cell_type": "markdown",
   "metadata": {},
   "source": [
    "## Methods and design\n",
    "\n",
    "### Conceptual framework\n",
    "\n",
    "##### Parental self-efficacy, time investments and child's health\n",
    "\n",
    "The rational background assumes that each period $t$, parents observe the child's physical and emotional development and their self-efficacy. Condicional on their observed information and expectations, they maximize their lifetime utility function and decide their optimal parental time investment. \n",
    "\n",
    "We focus on four outcomes: (1) parental time investment ($I_t$) in period $t$  represented by hours spent in activities with the child, (2) child's nutritional health ($H_{t+1}$), (3) child's socioemotional development ($\\theta_{t+1}$) measured by openness, and emotional stability, and (4) parental self-efficacy ($S_{t+1}$), as follows.\n",
    "\n",
    "\\begin{equation}\n",
    "H_{t+1} = h_t (\\theta_t, H_t, I_t, P_t, X_t, \\mu_t)\n",
    "\\end{equation}\n",
    "\n",
    "\\begin{equation}\n",
    "\\theta_{t+1}  = g_t (\\theta_t, H_t, I_t, P_t, X_t, \\nu_t)\n",
    "\\end{equation}\n",
    "\n",
    "\\begin{equation}I_{t} = f_t (\\theta_t, H_t, X_t, T_t, S_{t-1}, I_{t-1}, \\varepsilon_t)\n",
    "\\end{equation}\n",
    "\n",
    "\\begin{equation}\n",
    "S_{t+1}  = s_t (P_t, X_t, T_t, S_{t}, \\epsilon_t)\n",
    "\\end{equation}\n",
    "\n",
    "where $P_t$ represent parents' schooling, $X_t$ household characteristics, and $T_t$ the intervention treatment. The components $\\varepsilon_t$, $\\mu_t$, $\\nu_t$, and $\\epsilon_t$ are idiosyncratic shock representing unobserved characteristics. Once parents made their time investment decision, the period $t + 1$ values of child's physical and emotional development, and parental self-efficacy are realized. Parents update their information set and move to the next period. \n",
    "\n",
    "Note that outcomes capture both characteristics at the parent and the child level. Because the intervention is at the parent level, we omit the individual suscript for simplicity.\n",
    "\n",
    "##### The role of ITA on parental self-efficacy and time investments \n",
    "\n",
    "[ADD THEORY OF CHANGE HERE, CONNECTING THE OPERATIVE PROCESS TO THE CONCEPTUAL FRAMEWORK] \n",
    "\n",
    "To unpack the role of the ITA app, we need to discuss how each of the features can impact parental self-efficacy and time investments. There are three main expected mechamisms: lower information access costs, increased motivation and updated beliefs regarding caregivers' marginal productivity of their time on children health. We can describe the sequence between the different element of the app and the user's experiences as follows:  \n",
    "\n",
    "1. Take-up: at any point, users could stop app utilization with probability $p_1$. An email remainder will be sent, which has probability $p_2$ to induce users to return to the app.\n",
    "\n",
    "2. Time investments: conditional on users' characterstics, utilization depends of the previous rating of the activities offered (with discrete bumps in probability from 1-5), previous rating of the random messages (yes/no), and previous  parental self-efficacy (both level and trend, which will be visible in the app metrics section). It also depends on the take-up (attrition).\n",
    "\n",
    "3. Parental self efficacy: depends of previous level in the last activity, or the self-reported one if the user changes the value before using the app. The user changes the self-efficacy value with prob $p_3$ (NOTE: we need to make sure we strongly encourage users to change the value before utilization). It also depends on the ratings of messages and activities.\n",
    "\n",
    "4. Message rating: random (yes/no) if never presented, but otherwise markov-chain process and linked to the previous level of self-efficacy.\n",
    "\n",
    "5. Activity rating: random (1-5) if never presented, but otherwise markov-chain process and linked to the previous level of self-efficacy). Remember that the activity is rated as 'enjoyable' by the user and the children's, as well as its perceived difficulty.\n",
    "\n",
    "### The Intervention\n",
    "\n",
    "ITA will be available for free starting September 2020 (beta version). The diffusion strategy is limited to Chile and conducted both through media channels (social media, newspapers, television) and schools, with the support of the National Board of School Aid and Scholarships (JUNAEB from now on, acronym for its Spanish name \"Junta Nacional de Auxilio Escolar y Becas\"). The pre-registration phase began in July of 2020. From the universe of all potential users, we conduct a stratified randomization to creat two groups, balanced on observable characteristics.  \n",
    "\n",
    "After the pre-registration phase, the caregiver can choose among three topics defining the type of activity and the underliying behavior (i.e., physical activity, healthy eating, and mental health promotion). Jointly, the caregiver decides with which nad how many children she is going to share the experience and their own perceived level of parental self-efficacy (1-100). By default, the starting point is self-efficacy from the last utilization. \n",
    "\n",
    "Upon choosing topic, children and self-efficacy level, the user receives an on-screen random message with information from one of five areas: motivation, healthy eating, physical activity, mental health promotion and active communication. The user has the interactive option to agree (thumb up) or disagree (thumb down). Upon click, two alternative activities are presented to the user. The activities are randomly chosen from a filtered subset, matching the parental self-reported efficacy level, the topic and complexity of the activity, and children's age.  Additionally, there is a button that allows the user to randomize two new activities from the filtered subset (with replacement). \n",
    "\n",
    "Once an activity is chosen, the content is presented to the user on screen as well as a \"next\" button. After completing the activity (by clicking \"next\") the user is prompted a feedback survey. The user must rate the enjoyment of the activity (both, the caregiver and the children), the perceived task complexity, and the post-completion parental self-efficacy level.  When done, the app brings the user back to the main menu. Utilization and self-efficacy statistics are available for the user, by clicking in the navegation bar (where there is also access to the user profile, password change, and log out). \n",
    "\n",
    "##### Study design\n",
    "\n",
    "This intervention trial (beta) is designed by PapitaCORP, a non-profit organization based in Chile.  The trial has two arms: treatment and control (FIGURE). In this stage, users (treatment group) will have access to ITA for four months and receive follow-up surveys at midline (two months) and endline. The control group receives surveys at baseline, midline and endline. \n",
    "\n",
    "##### Participants and sample size\n",
    "\n",
    "The application is designed to be used by any caregiver with children. Caregivers are classified into four self-reported groups: primary caregiver, secondary caregiver, other family member, and other non-family member. Activities are aimed to children with ages ranging from 3 to 10 years old. \n",
    "\n",
    "According to latest wave (2017) of the National Socio-economic Characterization Survey (CASEN, Spanish acronym), there are 1,460,000 households with children between 3 to 10 years old. It is estimated that 96\\% of these households have internet access (Educacion 2020).\n",
    "\n",
    "Total number of visits.  \n",
    "Total number of pre-registered users.  \n",
    "Take-up.  \n",
    "\n",
    "[TO COMPLETE]\n",
    "\n",
    "##### Instruments \n",
    "\n",
    "### Development, implementation and evaluation\n",
    "\n",
    "##### Preparation of material\n",
    "\n",
    "First, a group of experts in child mental health, physical activity and nutrition, constructed a classification scheme based on four dimensions of task complexity (REFERENCIA). The following dimensions are considered: number of tasks (e.g., how many steps are there in a recipe), attention demand (e.g., doing many steps at the same time), ambiguity  (e.g., steps are not clearly defined), and time limits (e.g., steps have to be perfomed within a defined time limit). \n",
    "\n",
    "Second, a group of research assistants searched, collected, categorized, and curate web-links to activities either in video or or digital paper format. The metadata collected includes title, duration and source. Based on the classification scheme proposed by the experts, the assistants include topic categorization (i.e., physical activity, healthy eating and mental health), task complexity (ranked from 1-5, being 1 the lowest level and 5 the maximum), suggested child age, and flags indicating other relevant information (e.g., vegetarian recipes).\n",
    "\n",
    "Finally, all this information is uploaded to ITA by the software development team so that the tool matches task complexity with parental self-efficacy. The objetive is to enhace parental self-efficacy by updating beliefs regarding parenting skills and reinforcing progress. \n",
    "\n",
    "\n",
    "##### Software development\n",
    "\n",
    "Javascript, Python, web-based (HTML) \n",
    "\n",
    "##### Implementation \n",
    "\n",
    "**Baseline** pre-registration\n",
    "\n",
    "**Midline** survey\n",
    "\n",
    "**Endline** survey\n",
    "\n",
    "##### Evaluation\n",
    "\n",
    "**Impact and implementation evaluation**  \n",
    "\n",
    "Average treatment effect on total utilization, parental self-efficacy, and childrens health.    \n",
    "\n",
    "**Aceptability evaluation**  \n",
    "\n",
    "CONTINOUS VARIABLES  \n",
    "\n",
    "*exposure/utilization*  \n",
    "\n",
    "total utilization and frequency  \n",
    " \n",
    "usability   \n",
    "\n",
    "*user experience*  \n",
    "\n",
    "activity ratings (like)  \n",
    "\n",
    "Incoporate contextual variables (user demographics, access, activities chosen, topics, task complexity, etc)  \n",
    "\n",
    "BASELINE, MIDLINE AND ENDLINE VARIABLES (thru comments) \n",
    "\n",
    "like the app?\n",
    "\n",
    "understanding the app (cognitive acceptability)  \n",
    "\n",
    "contextual determinants of usage  \n",
    "\n",
    "how to incorporate childrens feedback (demand for usage and complexity)  \n",
    "\n",
    "##### Data security\n",
    "\n",
    "MongoDB server"
   ]
  },
  {
   "cell_type": "markdown",
   "metadata": {},
   "source": [
    "## Data analysis\n"
   ]
  },
  {
   "cell_type": "markdown",
   "metadata": {},
   "source": [
    "## Ethics and dissemination\n",
    "\n",
    "##### Informed consent"
   ]
  },
  {
   "cell_type": "markdown",
   "metadata": {},
   "source": [
    "## Conclusion\n"
   ]
  }
 ],
 "metadata": {
  "cite2c": {
   "citations": {
    "7126731/3XGRKHER": {
     "author": [
      {
       "family": "Ardelt",
       "given": "Monika"
      },
      {
       "family": "Eccles",
       "given": "Jacquelynne S."
      }
     ],
     "container-title": "Journal of Family issues",
     "id": "7126731/3XGRKHER",
     "issue": "8",
     "issued": {
      "year": 2001
     },
     "note": "Publisher: Sage Publications",
     "page": "944–972",
     "page-first": "944",
     "title": "Effects of mothers' parental efficacy beliefs and promotive parenting strategies on inner-city youth",
     "type": "article-journal",
     "volume": "22"
    },
    "7126731/4MX2ZYJ4": {
     "author": [
      {
       "family": "Brazendale",
       "given": "Keith"
      },
      {
       "family": "Beets",
       "given": "Michael W."
      },
      {
       "family": "Weaver",
       "given": "R. Glenn"
      },
      {
       "family": "Pate",
       "given": "Russell R."
      },
      {
       "family": "Turner-McGrievy",
       "given": "Gabrielle M."
      },
      {
       "family": "Kaczynski",
       "given": "Andrew T."
      },
      {
       "family": "Chandler",
       "given": "Jessica L."
      },
      {
       "family": "Bohnert",
       "given": "Amy"
      },
      {
       "family": "von Hippel",
       "given": "Paul T."
      }
     ],
     "container-title": "International Journal of Behavioral Nutrition and Physical Activity",
     "id": "7126731/4MX2ZYJ4",
     "issue": "1",
     "issued": {
      "year": 2017
     },
     "note": "Publisher: Springer",
     "page": "100",
     "page-first": "100",
     "shortTitle": "Understanding differences between summer vs. school obesogenic behaviors of children",
     "title": "Understanding differences between summer vs. school obesogenic behaviors of children: the structured days hypothesis",
     "title-short": "Understanding differences between summer vs. school obesogenic behaviors of children",
     "type": "article-journal",
     "volume": "14"
    },
    "7126731/6QMMESPW": {
     "author": [
      {
       "family": "Sanders",
       "given": "Matthew R."
      },
      {
       "family": "Woolley",
       "given": "M. L."
      }
     ],
     "container-title": "Child: care, health and development",
     "id": "7126731/6QMMESPW",
     "issue": "1",
     "issued": {
      "year": 2005
     },
     "note": "Publisher: Wiley Online Library",
     "page": "65–73",
     "page-first": "65",
     "shortTitle": "The relationship between maternal self-efficacy and parenting practices",
     "title": "The relationship between maternal self-efficacy and parenting practices: Implications for parent training",
     "title-short": "The relationship between maternal self-efficacy and parenting practices",
     "type": "article-journal",
     "volume": "31"
    },
    "7126731/B5BNQPMA": {
     "author": [
      {
       "family": "Caro",
       "given": "Juan Carlos"
      }
     ],
     "id": "7126731/B5BNQPMA",
     "issued": {
      "year": 2020
     },
     "title": "Parental investments, socioemotional development and nutritional health in Chile",
     "type": "article-journal"
    },
    "7126731/BER22NHF": {
     "author": [
      {
       "family": "Price",
       "given": "Matthew"
      },
      {
       "family": "Yuen",
       "given": "Erica K."
      },
      {
       "family": "Goetter",
       "given": "Elizabeth M."
      },
      {
       "family": "Herbert",
       "given": "James D."
      },
      {
       "family": "Forman",
       "given": "Evan M."
      },
      {
       "family": "Acierno",
       "given": "Ron"
      },
      {
       "family": "Ruggiero",
       "given": "Kenneth J."
      }
     ],
     "container-title": "Clinical psychology & psychotherapy",
     "id": "7126731/BER22NHF",
     "issue": "5",
     "issued": {
      "year": 2014
     },
     "note": "Publisher: Wiley Online Library",
     "page": "427–436",
     "page-first": "427",
     "shortTitle": "mHealth",
     "title": "mHealth: a mechanism to deliver more accessible, more effective mental health care",
     "title-short": "mHealth",
     "type": "article-journal",
     "volume": "21"
    },
    "7126731/HT7UMQNH": {
     "author": [
      {
       "family": "Galea",
       "given": "Sandro"
      },
      {
       "family": "Merchant",
       "given": "Raina M."
      },
      {
       "family": "Lurie",
       "given": "Nicole"
      }
     ],
     "container-title": "JAMA internal medicine",
     "id": "undefined",
     "issue": "6",
     "issued": {
      "year": 2020
     },
     "note": "Publisher: American Medical Association",
     "page": "817–818",
     "page-first": "817",
     "shortTitle": "The mental health consequences of COVID-19 and physical distancing",
     "title": "The mental health consequences of COVID-19 and physical distancing: The need for prevention and early intervention",
     "title-short": "The mental health consequences of COVID-19 and physical distancing",
     "type": "article-journal",
     "volume": "180"
    },
    "7126731/L3LQ5W4F": {
     "author": [
      {
       "family": "Pisano",
       "given": "Luca"
      },
      {
       "family": "Galimi",
       "given": "Domenico"
      },
      {
       "family": "Cerniglia",
       "given": "Luca"
      }
     ],
     "id": "7126731/L3LQ5W4F",
     "issued": {
      "year": 2020
     },
     "note": "Publisher: PsyArXiv",
     "title": "A qualitative report on exploratory data on the possible emotional/behavioral correlates of Covid-19 lockdown in 4-10 years children in Italy.",
     "type": "article-journal"
    },
    "7126731/PNIZUEGW": {
     "author": [
      {
       "family": "Brooks",
       "given": "Samantha K."
      },
      {
       "family": "Webster",
       "given": "Rebecca K."
      },
      {
       "family": "Smith",
       "given": "Louise E."
      },
      {
       "family": "Woodland",
       "given": "Lisa"
      },
      {
       "family": "Wessely",
       "given": "Simon"
      },
      {
       "family": "Greenberg",
       "given": "Neil"
      },
      {
       "family": "Rubin",
       "given": "Gideon James"
      }
     ],
     "container-title": "The Lancet",
     "id": "7126731/PNIZUEGW",
     "issued": {
      "year": 2020
     },
     "note": "Publisher: Elsevier",
     "shortTitle": "The psychological impact of quarantine and how to reduce it",
     "title": "The psychological impact of quarantine and how to reduce it: rapid review of the evidence",
     "title-short": "The psychological impact of quarantine and how to reduce it",
     "type": "article-journal"
    },
    "7126731/QRP825IZ": {
     "DOI": "10.1001/jamapediatrics.2016.0225",
     "URL": "https://jamanetwork.com/journals/jamapediatrics/fullarticle/2522754",
     "abstract": "This Viewpoint discusses the importance of pediatric and family medical homes in   assisting parents in the tasks of protecting, nurturing, guiding, and educating their children.",
     "accessed": {
      "day": 27,
      "month": 7,
      "year": 2020
     },
     "author": [
      {
       "family": "Perrin",
       "given": "Ellen C."
      },
      {
       "family": "Leslie",
       "given": "Laurel K."
      },
      {
       "family": "Boat",
       "given": "Thomas"
      }
     ],
     "container-title": "JAMA Pediatrics",
     "container-title-short": "JAMA Pediatr",
     "id": "7126731/QRP825IZ",
     "issue": "7",
     "issued": {
      "day": 1,
      "month": 7,
      "year": 2016
     },
     "journalAbbreviation": "JAMA Pediatr",
     "language": "en",
     "note": "Publisher: American Medical Association",
     "page": "637-638",
     "page-first": "637",
     "title": "Parenting as Primary Prevention",
     "type": "article-journal",
     "volume": "170"
    },
    "7126731/SM6SXUX5": {
     "author": [
      {
       "family": "Wang",
       "given": "Guanghai"
      },
      {
       "family": "Zhang",
       "given": "Jihui"
      },
      {
       "family": "Lam",
       "given": "Siu Ping"
      },
      {
       "family": "Li",
       "given": "Shirley Xin"
      },
      {
       "family": "Jiang",
       "given": "Yanrui"
      },
      {
       "family": "Sun",
       "given": "Wanqi"
      },
      {
       "family": "Chan",
       "given": "Ngan Yin"
      },
      {
       "family": "Kong",
       "given": "Alice Pik Shan"
      },
      {
       "family": "Zhang",
       "given": "Yunting"
      },
      {
       "family": "Li",
       "given": "Shenghui"
      }
     ],
     "container-title": "Journal of Clinical Sleep Medicine",
     "id": "7126731/SM6SXUX5",
     "issue": "10",
     "issued": {
      "year": 2019
     },
     "note": "Publisher: American Academy of Sleep Medicine",
     "page": "1495–1502",
     "page-first": "1495",
     "shortTitle": "Ten-year secular trends in sleep/wake patterns in Shanghai and Hong Kong school-aged children",
     "title": "Ten-year secular trends in sleep/wake patterns in Shanghai and Hong Kong school-aged children: a tale of two cities",
     "title-short": "Ten-year secular trends in sleep/wake patterns in Shanghai and Hong Kong school-aged children",
     "type": "article-journal",
     "volume": "15"
    },
    "7126731/TXZJFV39": {
     "author": [
      {
       "family": "Black",
       "given": "Maureen M"
      },
      {
       "family": "Walker",
       "given": "Susan P"
      },
      {
       "family": "Fernald",
       "given": "Lia CH"
      },
      {
       "family": "Andersen",
       "given": "Christopher T"
      },
      {
       "family": "DiGirolamo",
       "given": "Ann M"
      },
      {
       "family": "Lu",
       "given": "Chunling"
      },
      {
       "family": "McCoy",
       "given": "Dana C"
      },
      {
       "family": "Fink",
       "given": "Gunther"
      },
      {
       "family": "Shawar",
       "given": "Yusra R"
      },
      {
       "family": "Shiffman",
       "given": "Jeremy"
      },
      {
       "family": "others",
       "given": ""
      }
     ],
     "container-title": "The Lancet",
     "id": "7126731/TXZJFV39",
     "issue": "10064",
     "issued": {
      "year": 2017
     },
     "page": "77–90",
     "page-first": "77",
     "title": "Early childhood development coming of age: science through the life course",
     "type": "article-journal",
     "volume": "389"
    },
    "7126731/U6GUPKN9": {
     "author": [
      {
       "family": "Pynoos",
       "given": "Robert S."
      },
      {
       "family": "Steinberg",
       "given": "Alan M."
      },
      {
       "family": "Brymer",
       "given": "Melissa J."
      }
     ],
     "container-title": "Textbook of disaster psychiatry",
     "id": "7126731/U6GUPKN9",
     "issued": {
      "year": 2007
     },
     "note": "Publisher: Cambridge University Press, Cambridge (UK)",
     "page": "48–68",
     "page-first": "48",
     "shortTitle": "Children and disasters",
     "title": "Children and disasters: public mental health approaches",
     "title-short": "Children and disasters",
     "type": "article-journal"
    },
    "7126731/UXGT9P9B": {
     "author": [
      {
       "family": "Pietrobelli",
       "given": "Angelo"
      },
      {
       "family": "Pecoraro",
       "given": "Luca"
      },
      {
       "family": "Ferruzzi",
       "given": "Alessandro"
      },
      {
       "family": "Heo",
       "given": "Moonseong"
      },
      {
       "family": "Faith",
       "given": "Myles"
      },
      {
       "family": "Zoller",
       "given": "Thomas"
      },
      {
       "family": "Antoniazzi",
       "given": "Franco"
      },
      {
       "family": "Piacentini",
       "given": "Giorgio"
      },
      {
       "family": "Fearnbach",
       "given": "S. Nicole"
      },
      {
       "family": "Heymsfield",
       "given": "Steven B."
      }
     ],
     "container-title": "Obesity",
     "id": "7126731/UXGT9P9B",
     "issued": {
      "year": 2020
     },
     "note": "Publisher: Wiley Online Library",
     "shortTitle": "Effects of COVID-19 lockdown on lifestyle behaviors in children with obesity living in Verona, Italy",
     "title": "Effects of COVID-19 lockdown on lifestyle behaviors in children with obesity living in Verona, Italy: a longitudinal study",
     "title-short": "Effects of COVID-19 lockdown on lifestyle behaviors in children with obesity living in Verona, Italy",
     "type": "article-journal"
    },
    "undefined": {
     "author": [
      {
       "family": "Galea",
       "given": "Sandro"
      },
      {
       "family": "Merchant",
       "given": "Raina M."
      },
      {
       "family": "Lurie",
       "given": "Nicole"
      }
     ],
     "container-title": "JAMA internal medicine",
     "id": "undefined",
     "issue": "6",
     "issued": {
      "year": 2020
     },
     "note": "Publisher: American Medical Association",
     "page": "817–818",
     "page-first": "817",
     "shortTitle": "The mental health consequences of COVID-19 and physical distancing",
     "title": "The mental health consequences of COVID-19 and physical distancing: The need for prevention and early intervention",
     "title-short": "The mental health consequences of COVID-19 and physical distancing",
     "type": "article-journal",
     "volume": "180"
    }
   }
  },
  "hide_input": true,
  "kernelspec": {
   "display_name": "Python 3",
   "language": "python",
   "name": "python3"
  },
  "language_info": {
   "codemirror_mode": {
    "name": "ipython",
    "version": 3
   },
   "file_extension": ".py",
   "mimetype": "text/x-python",
   "name": "python",
   "nbconvert_exporter": "python",
   "pygments_lexer": "ipython3",
   "version": "3.7.6"
  },
  "latex_envs": {
   "LaTeX_envs_menu_present": true,
   "autoclose": true,
   "autocomplete": true,
   "bibliofile": "biblio.bib",
   "cite_by": "apalike",
   "current_citInitial": 1,
   "eqLabelWithNumbers": true,
   "eqNumInitial": 1,
   "hotkeys": {
    "equation": "Ctrl-E",
    "itemize": "Ctrl-I"
   },
   "labels_anchors": false,
   "latex_user_defs": false,
   "report_style_numbering": false,
   "user_envs_cfg": false
  },
  "toc": {
   "base_numbering": 1,
   "nav_menu": {},
   "number_sections": true,
   "sideBar": true,
   "skip_h1_title": true,
   "title_cell": "Table of Contents",
   "title_sidebar": "Contents",
   "toc_cell": false,
   "toc_position": {
    "height": "calc(100% - 180px)",
    "left": "10px",
    "top": "150px",
    "width": "246.4px"
   },
   "toc_section_display": true,
   "toc_window_display": false
  }
 },
 "nbformat": 4,
 "nbformat_minor": 2
}
